{
  "nbformat": 4,
  "nbformat_minor": 0,
  "metadata": {
    "colab": {
      "provenance": [],
      "authorship_tag": "ABX9TyPvzwhquB/FdCyX8LRU3h1V",
      "include_colab_link": true
    },
    "kernelspec": {
      "name": "python3",
      "display_name": "Python 3"
    },
    "language_info": {
      "name": "python"
    }
  },
  "cells": [
    {
      "cell_type": "markdown",
      "metadata": {
        "id": "view-in-github",
        "colab_type": "text"
      },
      "source": [
        "<a href=\"https://colab.research.google.com/github/Subhasreemuthaluru/Project/blob/main/ProjectCode.ipynb\" target=\"_parent\"><img src=\"https://colab.research.google.com/assets/colab-badge.svg\" alt=\"Open In Colab\"/></a>"
      ]
    },
    {
      "cell_type": "code",
      "execution_count": 1,
      "metadata": {
        "id": "PmcOaFts6LxA"
      },
      "outputs": [],
      "source": [
        "import pandas as pd\n",
        "import numpy as np\n",
        "import matplotlib.pyplot as plt\n",
        "%matplotlib inline"
      ]
    },
    {
      "cell_type": "code",
      "source": [
        "from google.colab import drive\n",
        "drive.mount('/content/drive')"
      ],
      "metadata": {
        "colab": {
          "base_uri": "https://localhost:8080/"
        },
        "id": "F0-LZSHL6ocb",
        "outputId": "e4ea7628-96eb-4cbb-8978-0c772abdd099"
      },
      "execution_count": 2,
      "outputs": [
        {
          "output_type": "stream",
          "name": "stdout",
          "text": [
            "Mounted at /content/drive\n"
          ]
        }
      ]
    },
    {
      "cell_type": "code",
      "source": [
        "df=pd.read_csv('/content/drive/MyDrive/Project_Data.csv')\n",
        "\n",
        "print(df.columns.values)"
      ],
      "metadata": {
        "colab": {
          "base_uri": "https://localhost:8080/"
        },
        "id": "hX0R78Qj6yk9",
        "outputId": "0448009d-ebc1-48dc-aad7-e050125e04b5"
      },
      "execution_count": 3,
      "outputs": [
        {
          "output_type": "stream",
          "name": "stdout",
          "text": [
            "['Sl No' 'Sample ID' 'Age' 'Ob_Score' 'BMI' 'Consistency_Score'\n",
            " 'Position_Score' 'Effacement_Score' 'Dialation_Score' 'Station_Score'\n",
            " 'Total_Bishop_Score' 'Cerv_Len_cms' 'Cerv_Wid_cms' 'Induction' 'Del_mode']\n"
          ]
        }
      ]
    },
    {
      "cell_type": "code",
      "source": [
        "df.sample(5)"
      ],
      "metadata": {
        "colab": {
          "base_uri": "https://localhost:8080/",
          "height": 243
        },
        "id": "O5P90f0M7Dla",
        "outputId": "3cadbe65-7637-4b97-e290-a6fb8b35c85e"
      },
      "execution_count": 4,
      "outputs": [
        {
          "output_type": "execute_result",
          "data": {
            "text/plain": [
              "      Sl No Sample ID  Age Ob_Score        BMI  Consistency_Score  \\\n",
              "1061   1062       D62   27       G1  25.600000                  0   \n",
              "1001   1002        D2   24       G1  23.500000                  2   \n",
              "614     615     DT615   22       G1  29.577361                  0   \n",
              "649     650     DT650   20       G1  23.216289                  0   \n",
              "355     356     DT356   25       G1  24.307347                  0   \n",
              "\n",
              "      Position_Score  Effacement_Score  Dialation_Score  Station_Score  \\\n",
              "1061               1                 0                2              1   \n",
              "1001               0                 2                0              3   \n",
              "614                1                 0                1              3   \n",
              "649                2                 1                3              0   \n",
              "355                2                 3                1              3   \n",
              "\n",
              "      Total_Bishop_Score  Cerv_Len_cms  Cerv_Wid_cms  Induction  Del_mode  \n",
              "1061                   3       3.32000      0.870000          1         0  \n",
              "1001                   4           NaN           NaN          1         0  \n",
              "614                    2           NaN           NaN          1         0  \n",
              "649                    6       2.34052      1.863478          1         0  \n",
              "355                    6           NaN           NaN          1         0  "
            ],
            "text/html": [
              "\n",
              "  <div id=\"df-4793f58f-24e9-4125-a76a-1d1c1157ea66\" class=\"colab-df-container\">\n",
              "    <div>\n",
              "<style scoped>\n",
              "    .dataframe tbody tr th:only-of-type {\n",
              "        vertical-align: middle;\n",
              "    }\n",
              "\n",
              "    .dataframe tbody tr th {\n",
              "        vertical-align: top;\n",
              "    }\n",
              "\n",
              "    .dataframe thead th {\n",
              "        text-align: right;\n",
              "    }\n",
              "</style>\n",
              "<table border=\"1\" class=\"dataframe\">\n",
              "  <thead>\n",
              "    <tr style=\"text-align: right;\">\n",
              "      <th></th>\n",
              "      <th>Sl No</th>\n",
              "      <th>Sample ID</th>\n",
              "      <th>Age</th>\n",
              "      <th>Ob_Score</th>\n",
              "      <th>BMI</th>\n",
              "      <th>Consistency_Score</th>\n",
              "      <th>Position_Score</th>\n",
              "      <th>Effacement_Score</th>\n",
              "      <th>Dialation_Score</th>\n",
              "      <th>Station_Score</th>\n",
              "      <th>Total_Bishop_Score</th>\n",
              "      <th>Cerv_Len_cms</th>\n",
              "      <th>Cerv_Wid_cms</th>\n",
              "      <th>Induction</th>\n",
              "      <th>Del_mode</th>\n",
              "    </tr>\n",
              "  </thead>\n",
              "  <tbody>\n",
              "    <tr>\n",
              "      <th>1061</th>\n",
              "      <td>1062</td>\n",
              "      <td>D62</td>\n",
              "      <td>27</td>\n",
              "      <td>G1</td>\n",
              "      <td>25.600000</td>\n",
              "      <td>0</td>\n",
              "      <td>1</td>\n",
              "      <td>0</td>\n",
              "      <td>2</td>\n",
              "      <td>1</td>\n",
              "      <td>3</td>\n",
              "      <td>3.32000</td>\n",
              "      <td>0.870000</td>\n",
              "      <td>1</td>\n",
              "      <td>0</td>\n",
              "    </tr>\n",
              "    <tr>\n",
              "      <th>1001</th>\n",
              "      <td>1002</td>\n",
              "      <td>D2</td>\n",
              "      <td>24</td>\n",
              "      <td>G1</td>\n",
              "      <td>23.500000</td>\n",
              "      <td>2</td>\n",
              "      <td>0</td>\n",
              "      <td>2</td>\n",
              "      <td>0</td>\n",
              "      <td>3</td>\n",
              "      <td>4</td>\n",
              "      <td>NaN</td>\n",
              "      <td>NaN</td>\n",
              "      <td>1</td>\n",
              "      <td>0</td>\n",
              "    </tr>\n",
              "    <tr>\n",
              "      <th>614</th>\n",
              "      <td>615</td>\n",
              "      <td>DT615</td>\n",
              "      <td>22</td>\n",
              "      <td>G1</td>\n",
              "      <td>29.577361</td>\n",
              "      <td>0</td>\n",
              "      <td>1</td>\n",
              "      <td>0</td>\n",
              "      <td>1</td>\n",
              "      <td>3</td>\n",
              "      <td>2</td>\n",
              "      <td>NaN</td>\n",
              "      <td>NaN</td>\n",
              "      <td>1</td>\n",
              "      <td>0</td>\n",
              "    </tr>\n",
              "    <tr>\n",
              "      <th>649</th>\n",
              "      <td>650</td>\n",
              "      <td>DT650</td>\n",
              "      <td>20</td>\n",
              "      <td>G1</td>\n",
              "      <td>23.216289</td>\n",
              "      <td>0</td>\n",
              "      <td>2</td>\n",
              "      <td>1</td>\n",
              "      <td>3</td>\n",
              "      <td>0</td>\n",
              "      <td>6</td>\n",
              "      <td>2.34052</td>\n",
              "      <td>1.863478</td>\n",
              "      <td>1</td>\n",
              "      <td>0</td>\n",
              "    </tr>\n",
              "    <tr>\n",
              "      <th>355</th>\n",
              "      <td>356</td>\n",
              "      <td>DT356</td>\n",
              "      <td>25</td>\n",
              "      <td>G1</td>\n",
              "      <td>24.307347</td>\n",
              "      <td>0</td>\n",
              "      <td>2</td>\n",
              "      <td>3</td>\n",
              "      <td>1</td>\n",
              "      <td>3</td>\n",
              "      <td>6</td>\n",
              "      <td>NaN</td>\n",
              "      <td>NaN</td>\n",
              "      <td>1</td>\n",
              "      <td>0</td>\n",
              "    </tr>\n",
              "  </tbody>\n",
              "</table>\n",
              "</div>\n",
              "    <div class=\"colab-df-buttons\">\n",
              "\n",
              "  <div class=\"colab-df-container\">\n",
              "    <button class=\"colab-df-convert\" onclick=\"convertToInteractive('df-4793f58f-24e9-4125-a76a-1d1c1157ea66')\"\n",
              "            title=\"Convert this dataframe to an interactive table.\"\n",
              "            style=\"display:none;\">\n",
              "\n",
              "  <svg xmlns=\"http://www.w3.org/2000/svg\" height=\"24px\" viewBox=\"0 -960 960 960\">\n",
              "    <path d=\"M120-120v-720h720v720H120Zm60-500h600v-160H180v160Zm220 220h160v-160H400v160Zm0 220h160v-160H400v160ZM180-400h160v-160H180v160Zm440 0h160v-160H620v160ZM180-180h160v-160H180v160Zm440 0h160v-160H620v160Z\"/>\n",
              "  </svg>\n",
              "    </button>\n",
              "\n",
              "  <style>\n",
              "    .colab-df-container {\n",
              "      display:flex;\n",
              "      gap: 12px;\n",
              "    }\n",
              "\n",
              "    .colab-df-convert {\n",
              "      background-color: #E8F0FE;\n",
              "      border: none;\n",
              "      border-radius: 50%;\n",
              "      cursor: pointer;\n",
              "      display: none;\n",
              "      fill: #1967D2;\n",
              "      height: 32px;\n",
              "      padding: 0 0 0 0;\n",
              "      width: 32px;\n",
              "    }\n",
              "\n",
              "    .colab-df-convert:hover {\n",
              "      background-color: #E2EBFA;\n",
              "      box-shadow: 0px 1px 2px rgba(60, 64, 67, 0.3), 0px 1px 3px 1px rgba(60, 64, 67, 0.15);\n",
              "      fill: #174EA6;\n",
              "    }\n",
              "\n",
              "    .colab-df-buttons div {\n",
              "      margin-bottom: 4px;\n",
              "    }\n",
              "\n",
              "    [theme=dark] .colab-df-convert {\n",
              "      background-color: #3B4455;\n",
              "      fill: #D2E3FC;\n",
              "    }\n",
              "\n",
              "    [theme=dark] .colab-df-convert:hover {\n",
              "      background-color: #434B5C;\n",
              "      box-shadow: 0px 1px 3px 1px rgba(0, 0, 0, 0.15);\n",
              "      filter: drop-shadow(0px 1px 2px rgba(0, 0, 0, 0.3));\n",
              "      fill: #FFFFFF;\n",
              "    }\n",
              "  </style>\n",
              "\n",
              "    <script>\n",
              "      const buttonEl =\n",
              "        document.querySelector('#df-4793f58f-24e9-4125-a76a-1d1c1157ea66 button.colab-df-convert');\n",
              "      buttonEl.style.display =\n",
              "        google.colab.kernel.accessAllowed ? 'block' : 'none';\n",
              "\n",
              "      async function convertToInteractive(key) {\n",
              "        const element = document.querySelector('#df-4793f58f-24e9-4125-a76a-1d1c1157ea66');\n",
              "        const dataTable =\n",
              "          await google.colab.kernel.invokeFunction('convertToInteractive',\n",
              "                                                    [key], {});\n",
              "        if (!dataTable) return;\n",
              "\n",
              "        const docLinkHtml = 'Like what you see? Visit the ' +\n",
              "          '<a target=\"_blank\" href=https://colab.research.google.com/notebooks/data_table.ipynb>data table notebook</a>'\n",
              "          + ' to learn more about interactive tables.';\n",
              "        element.innerHTML = '';\n",
              "        dataTable['output_type'] = 'display_data';\n",
              "        await google.colab.output.renderOutput(dataTable, element);\n",
              "        const docLink = document.createElement('div');\n",
              "        docLink.innerHTML = docLinkHtml;\n",
              "        element.appendChild(docLink);\n",
              "      }\n",
              "    </script>\n",
              "  </div>\n",
              "\n",
              "\n",
              "<div id=\"df-dc715db9-7f8a-45f9-9f4a-6406174e6782\">\n",
              "  <button class=\"colab-df-quickchart\" onclick=\"quickchart('df-dc715db9-7f8a-45f9-9f4a-6406174e6782')\"\n",
              "            title=\"Suggest charts\"\n",
              "            style=\"display:none;\">\n",
              "\n",
              "<svg xmlns=\"http://www.w3.org/2000/svg\" height=\"24px\"viewBox=\"0 0 24 24\"\n",
              "     width=\"24px\">\n",
              "    <g>\n",
              "        <path d=\"M19 3H5c-1.1 0-2 .9-2 2v14c0 1.1.9 2 2 2h14c1.1 0 2-.9 2-2V5c0-1.1-.9-2-2-2zM9 17H7v-7h2v7zm4 0h-2V7h2v10zm4 0h-2v-4h2v4z\"/>\n",
              "    </g>\n",
              "</svg>\n",
              "  </button>\n",
              "\n",
              "<style>\n",
              "  .colab-df-quickchart {\n",
              "      --bg-color: #E8F0FE;\n",
              "      --fill-color: #1967D2;\n",
              "      --hover-bg-color: #E2EBFA;\n",
              "      --hover-fill-color: #174EA6;\n",
              "      --disabled-fill-color: #AAA;\n",
              "      --disabled-bg-color: #DDD;\n",
              "  }\n",
              "\n",
              "  [theme=dark] .colab-df-quickchart {\n",
              "      --bg-color: #3B4455;\n",
              "      --fill-color: #D2E3FC;\n",
              "      --hover-bg-color: #434B5C;\n",
              "      --hover-fill-color: #FFFFFF;\n",
              "      --disabled-bg-color: #3B4455;\n",
              "      --disabled-fill-color: #666;\n",
              "  }\n",
              "\n",
              "  .colab-df-quickchart {\n",
              "    background-color: var(--bg-color);\n",
              "    border: none;\n",
              "    border-radius: 50%;\n",
              "    cursor: pointer;\n",
              "    display: none;\n",
              "    fill: var(--fill-color);\n",
              "    height: 32px;\n",
              "    padding: 0;\n",
              "    width: 32px;\n",
              "  }\n",
              "\n",
              "  .colab-df-quickchart:hover {\n",
              "    background-color: var(--hover-bg-color);\n",
              "    box-shadow: 0 1px 2px rgba(60, 64, 67, 0.3), 0 1px 3px 1px rgba(60, 64, 67, 0.15);\n",
              "    fill: var(--button-hover-fill-color);\n",
              "  }\n",
              "\n",
              "  .colab-df-quickchart-complete:disabled,\n",
              "  .colab-df-quickchart-complete:disabled:hover {\n",
              "    background-color: var(--disabled-bg-color);\n",
              "    fill: var(--disabled-fill-color);\n",
              "    box-shadow: none;\n",
              "  }\n",
              "\n",
              "  .colab-df-spinner {\n",
              "    border: 2px solid var(--fill-color);\n",
              "    border-color: transparent;\n",
              "    border-bottom-color: var(--fill-color);\n",
              "    animation:\n",
              "      spin 1s steps(1) infinite;\n",
              "  }\n",
              "\n",
              "  @keyframes spin {\n",
              "    0% {\n",
              "      border-color: transparent;\n",
              "      border-bottom-color: var(--fill-color);\n",
              "      border-left-color: var(--fill-color);\n",
              "    }\n",
              "    20% {\n",
              "      border-color: transparent;\n",
              "      border-left-color: var(--fill-color);\n",
              "      border-top-color: var(--fill-color);\n",
              "    }\n",
              "    30% {\n",
              "      border-color: transparent;\n",
              "      border-left-color: var(--fill-color);\n",
              "      border-top-color: var(--fill-color);\n",
              "      border-right-color: var(--fill-color);\n",
              "    }\n",
              "    40% {\n",
              "      border-color: transparent;\n",
              "      border-right-color: var(--fill-color);\n",
              "      border-top-color: var(--fill-color);\n",
              "    }\n",
              "    60% {\n",
              "      border-color: transparent;\n",
              "      border-right-color: var(--fill-color);\n",
              "    }\n",
              "    80% {\n",
              "      border-color: transparent;\n",
              "      border-right-color: var(--fill-color);\n",
              "      border-bottom-color: var(--fill-color);\n",
              "    }\n",
              "    90% {\n",
              "      border-color: transparent;\n",
              "      border-bottom-color: var(--fill-color);\n",
              "    }\n",
              "  }\n",
              "</style>\n",
              "\n",
              "  <script>\n",
              "    async function quickchart(key) {\n",
              "      const quickchartButtonEl =\n",
              "        document.querySelector('#' + key + ' button');\n",
              "      quickchartButtonEl.disabled = true;  // To prevent multiple clicks.\n",
              "      quickchartButtonEl.classList.add('colab-df-spinner');\n",
              "      try {\n",
              "        const charts = await google.colab.kernel.invokeFunction(\n",
              "            'suggestCharts', [key], {});\n",
              "      } catch (error) {\n",
              "        console.error('Error during call to suggestCharts:', error);\n",
              "      }\n",
              "      quickchartButtonEl.classList.remove('colab-df-spinner');\n",
              "      quickchartButtonEl.classList.add('colab-df-quickchart-complete');\n",
              "    }\n",
              "    (() => {\n",
              "      let quickchartButtonEl =\n",
              "        document.querySelector('#df-dc715db9-7f8a-45f9-9f4a-6406174e6782 button');\n",
              "      quickchartButtonEl.style.display =\n",
              "        google.colab.kernel.accessAllowed ? 'block' : 'none';\n",
              "    })();\n",
              "  </script>\n",
              "</div>\n",
              "\n",
              "    </div>\n",
              "  </div>\n"
            ]
          },
          "metadata": {},
          "execution_count": 4
        }
      ]
    },
    {
      "cell_type": "code",
      "source": [
        "df.shape"
      ],
      "metadata": {
        "colab": {
          "base_uri": "https://localhost:8080/"
        },
        "id": "0md261FY7HkM",
        "outputId": "153cc181-f590-4908-af13-bc0ecc8bdd46"
      },
      "execution_count": 5,
      "outputs": [
        {
          "output_type": "execute_result",
          "data": {
            "text/plain": [
              "(1100, 15)"
            ]
          },
          "metadata": {},
          "execution_count": 5
        }
      ]
    },
    {
      "cell_type": "code",
      "source": [
        "df.drop (columns = ['Sl No', 'Sample ID','Age'],axis = 1, inplace = True  )"
      ],
      "metadata": {
        "id": "s_dsSIos7MfE"
      },
      "execution_count": 6,
      "outputs": []
    },
    {
      "cell_type": "code",
      "source": [
        "df.shape"
      ],
      "metadata": {
        "colab": {
          "base_uri": "https://localhost:8080/"
        },
        "id": "vOgGoabo7Ryh",
        "outputId": "061907cc-3325-44e8-b555-7df27e5f753b"
      },
      "execution_count": 7,
      "outputs": [
        {
          "output_type": "execute_result",
          "data": {
            "text/plain": [
              "(1100, 12)"
            ]
          },
          "metadata": {},
          "execution_count": 7
        }
      ]
    },
    {
      "cell_type": "code",
      "source": [
        "df.sample(5)"
      ],
      "metadata": {
        "colab": {
          "base_uri": "https://localhost:8080/",
          "height": 206
        },
        "id": "QkeE2_6A7U4I",
        "outputId": "0400aa9b-615e-4128-d177-9c1dc1419fa5"
      },
      "execution_count": 8,
      "outputs": [
        {
          "output_type": "execute_result",
          "data": {
            "text/plain": [
              "    Ob_Score        BMI  Consistency_Score  Position_Score  Effacement_Score  \\\n",
              "465       G1  25.153838                  1               2                 1   \n",
              "271       G1  26.280542                  0               0                 0   \n",
              "387       G1  22.421398                  1               0                 0   \n",
              "757       G1  25.711668                  0               0                 2   \n",
              "72        G1  24.897068                  1               0                 3   \n",
              "\n",
              "     Dialation_Score  Station_Score  Total_Bishop_Score  Cerv_Len_cms  \\\n",
              "465                1              3                   5           NaN   \n",
              "271                1              0                   1           NaN   \n",
              "387                3              2                   4           NaN   \n",
              "757                2              2                   4      2.320575   \n",
              "72                 0              0                   4           NaN   \n",
              "\n",
              "     Cerv_Wid_cms  Induction  Del_mode  \n",
              "465           NaN          1         0  \n",
              "271           NaN          1         1  \n",
              "387           NaN          1         0  \n",
              "757      1.106899          1         0  \n",
              "72            NaN          1         1  "
            ],
            "text/html": [
              "\n",
              "  <div id=\"df-8f91166f-eef0-4685-beee-b810771cb682\" class=\"colab-df-container\">\n",
              "    <div>\n",
              "<style scoped>\n",
              "    .dataframe tbody tr th:only-of-type {\n",
              "        vertical-align: middle;\n",
              "    }\n",
              "\n",
              "    .dataframe tbody tr th {\n",
              "        vertical-align: top;\n",
              "    }\n",
              "\n",
              "    .dataframe thead th {\n",
              "        text-align: right;\n",
              "    }\n",
              "</style>\n",
              "<table border=\"1\" class=\"dataframe\">\n",
              "  <thead>\n",
              "    <tr style=\"text-align: right;\">\n",
              "      <th></th>\n",
              "      <th>Ob_Score</th>\n",
              "      <th>BMI</th>\n",
              "      <th>Consistency_Score</th>\n",
              "      <th>Position_Score</th>\n",
              "      <th>Effacement_Score</th>\n",
              "      <th>Dialation_Score</th>\n",
              "      <th>Station_Score</th>\n",
              "      <th>Total_Bishop_Score</th>\n",
              "      <th>Cerv_Len_cms</th>\n",
              "      <th>Cerv_Wid_cms</th>\n",
              "      <th>Induction</th>\n",
              "      <th>Del_mode</th>\n",
              "    </tr>\n",
              "  </thead>\n",
              "  <tbody>\n",
              "    <tr>\n",
              "      <th>465</th>\n",
              "      <td>G1</td>\n",
              "      <td>25.153838</td>\n",
              "      <td>1</td>\n",
              "      <td>2</td>\n",
              "      <td>1</td>\n",
              "      <td>1</td>\n",
              "      <td>3</td>\n",
              "      <td>5</td>\n",
              "      <td>NaN</td>\n",
              "      <td>NaN</td>\n",
              "      <td>1</td>\n",
              "      <td>0</td>\n",
              "    </tr>\n",
              "    <tr>\n",
              "      <th>271</th>\n",
              "      <td>G1</td>\n",
              "      <td>26.280542</td>\n",
              "      <td>0</td>\n",
              "      <td>0</td>\n",
              "      <td>0</td>\n",
              "      <td>1</td>\n",
              "      <td>0</td>\n",
              "      <td>1</td>\n",
              "      <td>NaN</td>\n",
              "      <td>NaN</td>\n",
              "      <td>1</td>\n",
              "      <td>1</td>\n",
              "    </tr>\n",
              "    <tr>\n",
              "      <th>387</th>\n",
              "      <td>G1</td>\n",
              "      <td>22.421398</td>\n",
              "      <td>1</td>\n",
              "      <td>0</td>\n",
              "      <td>0</td>\n",
              "      <td>3</td>\n",
              "      <td>2</td>\n",
              "      <td>4</td>\n",
              "      <td>NaN</td>\n",
              "      <td>NaN</td>\n",
              "      <td>1</td>\n",
              "      <td>0</td>\n",
              "    </tr>\n",
              "    <tr>\n",
              "      <th>757</th>\n",
              "      <td>G1</td>\n",
              "      <td>25.711668</td>\n",
              "      <td>0</td>\n",
              "      <td>0</td>\n",
              "      <td>2</td>\n",
              "      <td>2</td>\n",
              "      <td>2</td>\n",
              "      <td>4</td>\n",
              "      <td>2.320575</td>\n",
              "      <td>1.106899</td>\n",
              "      <td>1</td>\n",
              "      <td>0</td>\n",
              "    </tr>\n",
              "    <tr>\n",
              "      <th>72</th>\n",
              "      <td>G1</td>\n",
              "      <td>24.897068</td>\n",
              "      <td>1</td>\n",
              "      <td>0</td>\n",
              "      <td>3</td>\n",
              "      <td>0</td>\n",
              "      <td>0</td>\n",
              "      <td>4</td>\n",
              "      <td>NaN</td>\n",
              "      <td>NaN</td>\n",
              "      <td>1</td>\n",
              "      <td>1</td>\n",
              "    </tr>\n",
              "  </tbody>\n",
              "</table>\n",
              "</div>\n",
              "    <div class=\"colab-df-buttons\">\n",
              "\n",
              "  <div class=\"colab-df-container\">\n",
              "    <button class=\"colab-df-convert\" onclick=\"convertToInteractive('df-8f91166f-eef0-4685-beee-b810771cb682')\"\n",
              "            title=\"Convert this dataframe to an interactive table.\"\n",
              "            style=\"display:none;\">\n",
              "\n",
              "  <svg xmlns=\"http://www.w3.org/2000/svg\" height=\"24px\" viewBox=\"0 -960 960 960\">\n",
              "    <path d=\"M120-120v-720h720v720H120Zm60-500h600v-160H180v160Zm220 220h160v-160H400v160Zm0 220h160v-160H400v160ZM180-400h160v-160H180v160Zm440 0h160v-160H620v160ZM180-180h160v-160H180v160Zm440 0h160v-160H620v160Z\"/>\n",
              "  </svg>\n",
              "    </button>\n",
              "\n",
              "  <style>\n",
              "    .colab-df-container {\n",
              "      display:flex;\n",
              "      gap: 12px;\n",
              "    }\n",
              "\n",
              "    .colab-df-convert {\n",
              "      background-color: #E8F0FE;\n",
              "      border: none;\n",
              "      border-radius: 50%;\n",
              "      cursor: pointer;\n",
              "      display: none;\n",
              "      fill: #1967D2;\n",
              "      height: 32px;\n",
              "      padding: 0 0 0 0;\n",
              "      width: 32px;\n",
              "    }\n",
              "\n",
              "    .colab-df-convert:hover {\n",
              "      background-color: #E2EBFA;\n",
              "      box-shadow: 0px 1px 2px rgba(60, 64, 67, 0.3), 0px 1px 3px 1px rgba(60, 64, 67, 0.15);\n",
              "      fill: #174EA6;\n",
              "    }\n",
              "\n",
              "    .colab-df-buttons div {\n",
              "      margin-bottom: 4px;\n",
              "    }\n",
              "\n",
              "    [theme=dark] .colab-df-convert {\n",
              "      background-color: #3B4455;\n",
              "      fill: #D2E3FC;\n",
              "    }\n",
              "\n",
              "    [theme=dark] .colab-df-convert:hover {\n",
              "      background-color: #434B5C;\n",
              "      box-shadow: 0px 1px 3px 1px rgba(0, 0, 0, 0.15);\n",
              "      filter: drop-shadow(0px 1px 2px rgba(0, 0, 0, 0.3));\n",
              "      fill: #FFFFFF;\n",
              "    }\n",
              "  </style>\n",
              "\n",
              "    <script>\n",
              "      const buttonEl =\n",
              "        document.querySelector('#df-8f91166f-eef0-4685-beee-b810771cb682 button.colab-df-convert');\n",
              "      buttonEl.style.display =\n",
              "        google.colab.kernel.accessAllowed ? 'block' : 'none';\n",
              "\n",
              "      async function convertToInteractive(key) {\n",
              "        const element = document.querySelector('#df-8f91166f-eef0-4685-beee-b810771cb682');\n",
              "        const dataTable =\n",
              "          await google.colab.kernel.invokeFunction('convertToInteractive',\n",
              "                                                    [key], {});\n",
              "        if (!dataTable) return;\n",
              "\n",
              "        const docLinkHtml = 'Like what you see? Visit the ' +\n",
              "          '<a target=\"_blank\" href=https://colab.research.google.com/notebooks/data_table.ipynb>data table notebook</a>'\n",
              "          + ' to learn more about interactive tables.';\n",
              "        element.innerHTML = '';\n",
              "        dataTable['output_type'] = 'display_data';\n",
              "        await google.colab.output.renderOutput(dataTable, element);\n",
              "        const docLink = document.createElement('div');\n",
              "        docLink.innerHTML = docLinkHtml;\n",
              "        element.appendChild(docLink);\n",
              "      }\n",
              "    </script>\n",
              "  </div>\n",
              "\n",
              "\n",
              "<div id=\"df-dfdc2a1d-8813-4491-ac82-924dd4fb3fff\">\n",
              "  <button class=\"colab-df-quickchart\" onclick=\"quickchart('df-dfdc2a1d-8813-4491-ac82-924dd4fb3fff')\"\n",
              "            title=\"Suggest charts\"\n",
              "            style=\"display:none;\">\n",
              "\n",
              "<svg xmlns=\"http://www.w3.org/2000/svg\" height=\"24px\"viewBox=\"0 0 24 24\"\n",
              "     width=\"24px\">\n",
              "    <g>\n",
              "        <path d=\"M19 3H5c-1.1 0-2 .9-2 2v14c0 1.1.9 2 2 2h14c1.1 0 2-.9 2-2V5c0-1.1-.9-2-2-2zM9 17H7v-7h2v7zm4 0h-2V7h2v10zm4 0h-2v-4h2v4z\"/>\n",
              "    </g>\n",
              "</svg>\n",
              "  </button>\n",
              "\n",
              "<style>\n",
              "  .colab-df-quickchart {\n",
              "      --bg-color: #E8F0FE;\n",
              "      --fill-color: #1967D2;\n",
              "      --hover-bg-color: #E2EBFA;\n",
              "      --hover-fill-color: #174EA6;\n",
              "      --disabled-fill-color: #AAA;\n",
              "      --disabled-bg-color: #DDD;\n",
              "  }\n",
              "\n",
              "  [theme=dark] .colab-df-quickchart {\n",
              "      --bg-color: #3B4455;\n",
              "      --fill-color: #D2E3FC;\n",
              "      --hover-bg-color: #434B5C;\n",
              "      --hover-fill-color: #FFFFFF;\n",
              "      --disabled-bg-color: #3B4455;\n",
              "      --disabled-fill-color: #666;\n",
              "  }\n",
              "\n",
              "  .colab-df-quickchart {\n",
              "    background-color: var(--bg-color);\n",
              "    border: none;\n",
              "    border-radius: 50%;\n",
              "    cursor: pointer;\n",
              "    display: none;\n",
              "    fill: var(--fill-color);\n",
              "    height: 32px;\n",
              "    padding: 0;\n",
              "    width: 32px;\n",
              "  }\n",
              "\n",
              "  .colab-df-quickchart:hover {\n",
              "    background-color: var(--hover-bg-color);\n",
              "    box-shadow: 0 1px 2px rgba(60, 64, 67, 0.3), 0 1px 3px 1px rgba(60, 64, 67, 0.15);\n",
              "    fill: var(--button-hover-fill-color);\n",
              "  }\n",
              "\n",
              "  .colab-df-quickchart-complete:disabled,\n",
              "  .colab-df-quickchart-complete:disabled:hover {\n",
              "    background-color: var(--disabled-bg-color);\n",
              "    fill: var(--disabled-fill-color);\n",
              "    box-shadow: none;\n",
              "  }\n",
              "\n",
              "  .colab-df-spinner {\n",
              "    border: 2px solid var(--fill-color);\n",
              "    border-color: transparent;\n",
              "    border-bottom-color: var(--fill-color);\n",
              "    animation:\n",
              "      spin 1s steps(1) infinite;\n",
              "  }\n",
              "\n",
              "  @keyframes spin {\n",
              "    0% {\n",
              "      border-color: transparent;\n",
              "      border-bottom-color: var(--fill-color);\n",
              "      border-left-color: var(--fill-color);\n",
              "    }\n",
              "    20% {\n",
              "      border-color: transparent;\n",
              "      border-left-color: var(--fill-color);\n",
              "      border-top-color: var(--fill-color);\n",
              "    }\n",
              "    30% {\n",
              "      border-color: transparent;\n",
              "      border-left-color: var(--fill-color);\n",
              "      border-top-color: var(--fill-color);\n",
              "      border-right-color: var(--fill-color);\n",
              "    }\n",
              "    40% {\n",
              "      border-color: transparent;\n",
              "      border-right-color: var(--fill-color);\n",
              "      border-top-color: var(--fill-color);\n",
              "    }\n",
              "    60% {\n",
              "      border-color: transparent;\n",
              "      border-right-color: var(--fill-color);\n",
              "    }\n",
              "    80% {\n",
              "      border-color: transparent;\n",
              "      border-right-color: var(--fill-color);\n",
              "      border-bottom-color: var(--fill-color);\n",
              "    }\n",
              "    90% {\n",
              "      border-color: transparent;\n",
              "      border-bottom-color: var(--fill-color);\n",
              "    }\n",
              "  }\n",
              "</style>\n",
              "\n",
              "  <script>\n",
              "    async function quickchart(key) {\n",
              "      const quickchartButtonEl =\n",
              "        document.querySelector('#' + key + ' button');\n",
              "      quickchartButtonEl.disabled = true;  // To prevent multiple clicks.\n",
              "      quickchartButtonEl.classList.add('colab-df-spinner');\n",
              "      try {\n",
              "        const charts = await google.colab.kernel.invokeFunction(\n",
              "            'suggestCharts', [key], {});\n",
              "      } catch (error) {\n",
              "        console.error('Error during call to suggestCharts:', error);\n",
              "      }\n",
              "      quickchartButtonEl.classList.remove('colab-df-spinner');\n",
              "      quickchartButtonEl.classList.add('colab-df-quickchart-complete');\n",
              "    }\n",
              "    (() => {\n",
              "      let quickchartButtonEl =\n",
              "        document.querySelector('#df-dfdc2a1d-8813-4491-ac82-924dd4fb3fff button');\n",
              "      quickchartButtonEl.style.display =\n",
              "        google.colab.kernel.accessAllowed ? 'block' : 'none';\n",
              "    })();\n",
              "  </script>\n",
              "</div>\n",
              "\n",
              "    </div>\n",
              "  </div>\n"
            ]
          },
          "metadata": {},
          "execution_count": 8
        }
      ]
    },
    {
      "cell_type": "code",
      "source": [
        "df.dtypes"
      ],
      "metadata": {
        "colab": {
          "base_uri": "https://localhost:8080/"
        },
        "id": "c77luIYn7jag",
        "outputId": "023da545-785e-47e2-ce23-0c0f9c116845"
      },
      "execution_count": 9,
      "outputs": [
        {
          "output_type": "execute_result",
          "data": {
            "text/plain": [
              "Ob_Score               object\n",
              "BMI                   float64\n",
              "Consistency_Score       int64\n",
              "Position_Score          int64\n",
              "Effacement_Score        int64\n",
              "Dialation_Score         int64\n",
              "Station_Score           int64\n",
              "Total_Bishop_Score      int64\n",
              "Cerv_Len_cms          float64\n",
              "Cerv_Wid_cms          float64\n",
              "Induction               int64\n",
              "Del_mode                int64\n",
              "dtype: object"
            ]
          },
          "metadata": {},
          "execution_count": 9
        }
      ]
    },
    {
      "cell_type": "code",
      "source": [
        "print(df['Ob_Score'].unique())"
      ],
      "metadata": {
        "colab": {
          "base_uri": "https://localhost:8080/"
        },
        "id": "AYdT9LPE7lXH",
        "outputId": "5e447969-32a0-42be-9758-71c5cc4e0091"
      },
      "execution_count": 10,
      "outputs": [
        {
          "output_type": "stream",
          "name": "stdout",
          "text": [
            "['G1' 'G2A1' 'G3A2']\n"
          ]
        }
      ]
    },
    {
      "cell_type": "code",
      "source": [
        "print(df['Ob_Score'].value_counts())"
      ],
      "metadata": {
        "colab": {
          "base_uri": "https://localhost:8080/"
        },
        "id": "CPPdxFFl7o8B",
        "outputId": "8e9be6ef-efe5-44dc-ac36-84763fb62e80"
      },
      "execution_count": 11,
      "outputs": [
        {
          "output_type": "stream",
          "name": "stdout",
          "text": [
            "G1      1034\n",
            "G2A1      44\n",
            "G3A2      22\n",
            "Name: Ob_Score, dtype: int64\n"
          ]
        }
      ]
    },
    {
      "cell_type": "code",
      "source": [
        "from sklearn.preprocessing import LabelEncoder\n",
        "label_encoder=LabelEncoder()\n",
        "df['Ob_Score'] = label_encoder.fit_transform(df['Ob_Score'])"
      ],
      "metadata": {
        "id": "EtOEVp017uFx"
      },
      "execution_count": 12,
      "outputs": []
    },
    {
      "cell_type": "code",
      "source": [
        "df.dtypes"
      ],
      "metadata": {
        "colab": {
          "base_uri": "https://localhost:8080/"
        },
        "id": "FERGCzRI71WI",
        "outputId": "59945429-f47b-4e4e-e25d-df2ee851064b"
      },
      "execution_count": 13,
      "outputs": [
        {
          "output_type": "execute_result",
          "data": {
            "text/plain": [
              "Ob_Score                int64\n",
              "BMI                   float64\n",
              "Consistency_Score       int64\n",
              "Position_Score          int64\n",
              "Effacement_Score        int64\n",
              "Dialation_Score         int64\n",
              "Station_Score           int64\n",
              "Total_Bishop_Score      int64\n",
              "Cerv_Len_cms          float64\n",
              "Cerv_Wid_cms          float64\n",
              "Induction               int64\n",
              "Del_mode                int64\n",
              "dtype: object"
            ]
          },
          "metadata": {},
          "execution_count": 13
        }
      ]
    },
    {
      "cell_type": "code",
      "source": [
        "print(df['Ob_Score'].unique()) #converted ob_score into numeric values"
      ],
      "metadata": {
        "colab": {
          "base_uri": "https://localhost:8080/"
        },
        "id": "eLoWWCMw73l0",
        "outputId": "b83be4c0-bb3e-49e4-e532-31c9ff08e01e"
      },
      "execution_count": 14,
      "outputs": [
        {
          "output_type": "stream",
          "name": "stdout",
          "text": [
            "[0 1 2]\n"
          ]
        }
      ]
    },
    {
      "cell_type": "code",
      "source": [
        "print(df)"
      ],
      "metadata": {
        "colab": {
          "base_uri": "https://localhost:8080/"
        },
        "id": "KhAn1uOB79Hr",
        "outputId": "ccf68e1d-0ce0-4c00-c184-d777ec9696ed"
      },
      "execution_count": 15,
      "outputs": [
        {
          "output_type": "stream",
          "name": "stdout",
          "text": [
            "      Ob_Score        BMI  Consistency_Score  Position_Score  \\\n",
            "0            0  28.255713                  0               0   \n",
            "1            0  29.772191                  2               1   \n",
            "2            0  28.511248                  0               0   \n",
            "3            0  28.772695                  2               0   \n",
            "4            0  27.488918                  0               2   \n",
            "...        ...        ...                ...             ...   \n",
            "1095         0  29.500000                  2               2   \n",
            "1096         0  29.600000                  2               2   \n",
            "1097         0  31.000000                  2               1   \n",
            "1098         0  32.300000                  1               0   \n",
            "1099         0  30.000000                  1               2   \n",
            "\n",
            "      Effacement_Score  Dialation_Score  Station_Score  Total_Bishop_Score  \\\n",
            "0                    3                0              2                   3   \n",
            "1                    0                3              1                   6   \n",
            "2                    2                3              1                   5   \n",
            "3                    0                0              3                   2   \n",
            "4                    1                1              3                   4   \n",
            "...                ...              ...            ...                 ...   \n",
            "1095                 3                1              2                   8   \n",
            "1096                 2                3              3                   9   \n",
            "1097                 1                1              2                   5   \n",
            "1098                 1                2              2                   4   \n",
            "1099                 3                1              0                   7   \n",
            "\n",
            "      Cerv_Len_cms  Cerv_Wid_cms  Induction  Del_mode  \n",
            "0              NaN           NaN          1         1  \n",
            "1              NaN           NaN          1         1  \n",
            "2              NaN           NaN          1         1  \n",
            "3              NaN           NaN          1         1  \n",
            "4              NaN           NaN          1         1  \n",
            "...            ...           ...        ...       ...  \n",
            "1095          2.33          0.90          1         0  \n",
            "1096          2.23          1.63          1         0  \n",
            "1097          2.64          1.08          1         0  \n",
            "1098          2.11          1.90          1         0  \n",
            "1099          1.87          1.52          1         0  \n",
            "\n",
            "[1100 rows x 12 columns]\n"
          ]
        }
      ]
    },
    {
      "cell_type": "code",
      "source": [
        "#We need to remove the NaN values...."
      ],
      "metadata": {
        "id": "dGx6JhMh8Bls"
      },
      "execution_count": 16,
      "outputs": []
    },
    {
      "cell_type": "code",
      "source": [
        "df.isnull().sum()"
      ],
      "metadata": {
        "colab": {
          "base_uri": "https://localhost:8080/"
        },
        "id": "RSyxwZ7F8Fs7",
        "outputId": "82431f05-70b7-4241-f9ef-3f4bf327e3fa"
      },
      "execution_count": 17,
      "outputs": [
        {
          "output_type": "execute_result",
          "data": {
            "text/plain": [
              "Ob_Score                0\n",
              "BMI                     0\n",
              "Consistency_Score       0\n",
              "Position_Score          0\n",
              "Effacement_Score        0\n",
              "Dialation_Score         0\n",
              "Station_Score           0\n",
              "Total_Bishop_Score      0\n",
              "Cerv_Len_cms          660\n",
              "Cerv_Wid_cms          660\n",
              "Induction               0\n",
              "Del_mode                0\n",
              "dtype: int64"
            ]
          },
          "metadata": {},
          "execution_count": 17
        }
      ]
    },
    {
      "cell_type": "code",
      "source": [
        "#plotting a histograph of distribution before resolving the NaN values in both the columns\n",
        "import seaborn as sns\n",
        "fig, axes = plt.subplots(1, 2, figsize=(12, 5))\n",
        "\n",
        "sns.histplot(df['Cerv_Len_cms'], kde=True, ax=axes[0])\n",
        "axes[0].set_title('Cervical Length Histogram')\n",
        "sns.histplot(df['Cerv_Wid_cms'], kde=True, ax=axes[1])\n",
        "axes[1].set_title('Cervical Width Histogram')\n",
        "\n",
        "plt.tight_layout()\n",
        "plt.show()"
      ],
      "metadata": {
        "colab": {
          "base_uri": "https://localhost:8080/",
          "height": 507
        },
        "id": "EWKt9ec68JFr",
        "outputId": "0c24a11f-1584-4434-8ae5-f6260bfc487c"
      },
      "execution_count": 18,
      "outputs": [
        {
          "output_type": "display_data",
          "data": {
            "text/plain": [
              "<Figure size 1200x500 with 2 Axes>"
            ],
            "image/png": "[encoded data removed]"
          },
          "metadata": {}
        }
      ]
    },
    {
      "cell_type": "code",
      "source": [
        "#Missing value treatment using KNN_Imputer(resolving the NaN values)\n",
        "from sklearn.impute import KNNImputer\n",
        "imputer = KNNImputer(n_neighbors=5)\n",
        "df = pd.DataFrame(imputer.fit_transform(df),columns = df.columns)"
      ],
      "metadata": {
        "id": "7kWhuBa08Pnz"
      },
      "execution_count": 19,
      "outputs": []
    },
    {
      "cell_type": "code",
      "source": [
        "#plot a histograph of distribution after resolving the NaN values in both columns\n",
        "fig, axes = plt.subplots(1, 2, figsize=(12, 5))\n",
        "\n",
        "sns.histplot(df['Cerv_Len_cms'], kde=True, ax=axes[0])\n",
        "axes[0].set_title('Cervical Length Histogram')\n",
        "sns.histplot(df['Cerv_Wid_cms'], kde=True, ax=axes[1])\n",
        "axes[1].set_title('Cervical Width Histogram')\n",
        "\n",
        "plt.tight_layout()\n",
        "plt.show()"
      ],
      "metadata": {
        "colab": {
          "base_uri": "https://localhost:8080/",
          "height": 507
        },
        "id": "w_9MsIpw8YMl",
        "outputId": "552c98ad-f969-4909-c174-8b5e64c2c36b"
      },
      "execution_count": 20,
      "outputs": [
        {
          "output_type": "display_data",
          "data": {
            "text/plain": [
              "<Figure size 1200x500 with 2 Axes>"
            ],
            "image/png": "[encoded data removed]"
          },
          "metadata": {}
        }
      ]
    },
    {
      "cell_type": "code",
      "source": [
        "df.isnull().sum() #there are no NaN values in the dataset"
      ],
      "metadata": {
        "colab": {
          "base_uri": "https://localhost:8080/"
        },
        "id": "WVbRQ_UE8dZ2",
        "outputId": "d7986b48-e750-4c45-c62f-a30b891495c6"
      },
      "execution_count": 21,
      "outputs": [
        {
          "output_type": "execute_result",
          "data": {
            "text/plain": [
              "Ob_Score              0\n",
              "BMI                   0\n",
              "Consistency_Score     0\n",
              "Position_Score        0\n",
              "Effacement_Score      0\n",
              "Dialation_Score       0\n",
              "Station_Score         0\n",
              "Total_Bishop_Score    0\n",
              "Cerv_Len_cms          0\n",
              "Cerv_Wid_cms          0\n",
              "Induction             0\n",
              "Del_mode              0\n",
              "dtype: int64"
            ]
          },
          "metadata": {},
          "execution_count": 21
        }
      ]
    },
    {
      "cell_type": "code",
      "source": [
        "x = df.iloc[:,0:11]\n",
        "y = df.iloc[:,-1]\n",
        "\n",
        "print(x.shape)\n",
        "print(y.shape)"
      ],
      "metadata": {
        "colab": {
          "base_uri": "https://localhost:8080/"
        },
        "id": "-5QoMANU8gKV",
        "outputId": "06597bbc-807e-4a89-90a1-feb599c66676"
      },
      "execution_count": 22,
      "outputs": [
        {
          "output_type": "stream",
          "name": "stdout",
          "text": [
            "(1100, 11)\n",
            "(1100,)\n"
          ]
        }
      ]
    },
    {
      "cell_type": "code",
      "source": [
        "print(x)"
      ],
      "metadata": {
        "colab": {
          "base_uri": "https://localhost:8080/"
        },
        "id": "VTnIDY108rEF",
        "outputId": "9943cfcb-1b45-4e6e-ad50-c7e2a69a6b13"
      },
      "execution_count": 23,
      "outputs": [
        {
          "output_type": "stream",
          "name": "stdout",
          "text": [
            "      Ob_Score        BMI  Consistency_Score  Position_Score  \\\n",
            "0          0.0  28.255713                0.0             0.0   \n",
            "1          0.0  29.772191                2.0             1.0   \n",
            "2          0.0  28.511248                0.0             0.0   \n",
            "3          0.0  28.772695                2.0             0.0   \n",
            "4          0.0  27.488918                0.0             2.0   \n",
            "...        ...        ...                ...             ...   \n",
            "1095       0.0  29.500000                2.0             2.0   \n",
            "1096       0.0  29.600000                2.0             2.0   \n",
            "1097       0.0  31.000000                2.0             1.0   \n",
            "1098       0.0  32.300000                1.0             0.0   \n",
            "1099       0.0  30.000000                1.0             2.0   \n",
            "\n",
            "      Effacement_Score  Dialation_Score  Station_Score  Total_Bishop_Score  \\\n",
            "0                  3.0              0.0            2.0                 3.0   \n",
            "1                  0.0              3.0            1.0                 6.0   \n",
            "2                  2.0              3.0            1.0                 5.0   \n",
            "3                  0.0              0.0            3.0                 2.0   \n",
            "4                  1.0              1.0            3.0                 4.0   \n",
            "...                ...              ...            ...                 ...   \n",
            "1095               3.0              1.0            2.0                 8.0   \n",
            "1096               2.0              3.0            3.0                 9.0   \n",
            "1097               1.0              1.0            2.0                 5.0   \n",
            "1098               1.0              2.0            2.0                 4.0   \n",
            "1099               3.0              1.0            0.0                 7.0   \n",
            "\n",
            "      Cerv_Len_cms  Cerv_Wid_cms  Induction  \n",
            "0         2.888916      1.192673        1.0  \n",
            "1         2.674549      1.233754        1.0  \n",
            "2         2.809355      1.590739        1.0  \n",
            "3         2.840022      1.071997        1.0  \n",
            "4         2.489261      1.101085        1.0  \n",
            "...            ...           ...        ...  \n",
            "1095      2.330000      0.900000        1.0  \n",
            "1096      2.230000      1.630000        1.0  \n",
            "1097      2.640000      1.080000        1.0  \n",
            "1098      2.110000      1.900000        1.0  \n",
            "1099      1.870000      1.520000        1.0  \n",
            "\n",
            "[1100 rows x 11 columns]\n"
          ]
        }
      ]
    },
    {
      "cell_type": "code",
      "source": [
        "print(y)"
      ],
      "metadata": {
        "colab": {
          "base_uri": "https://localhost:8080/"
        },
        "id": "WpGepFcW8sK3",
        "outputId": "393c6a19-5e14-46e5-d532-4658c1aba052"
      },
      "execution_count": 24,
      "outputs": [
        {
          "output_type": "stream",
          "name": "stdout",
          "text": [
            "0       1.0\n",
            "1       1.0\n",
            "2       1.0\n",
            "3       1.0\n",
            "4       1.0\n",
            "       ... \n",
            "1095    0.0\n",
            "1096    0.0\n",
            "1097    0.0\n",
            "1098    0.0\n",
            "1099    0.0\n",
            "Name: Del_mode, Length: 1100, dtype: float64\n"
          ]
        }
      ]
    },
    {
      "cell_type": "code",
      "source": [
        "#standardizing the attributes\n",
        "from sklearn.preprocessing import StandardScaler\n",
        "scal = StandardScaler()\n",
        "scaling= scal.fit_transform(x) #scaling is of type array"
      ],
      "metadata": {
        "id": "tJBhdx_48x-W"
      },
      "execution_count": 25,
      "outputs": []
    },
    {
      "cell_type": "code",
      "source": [
        "x=pd.DataFrame(scaling, columns = x.columns)\n",
        "x.sample(5)"
      ],
      "metadata": {
        "colab": {
          "base_uri": "https://localhost:8080/",
          "height": 206
        },
        "id": "8pM8pw0i84eN",
        "outputId": "66abd69b-13bf-4764-9c5e-2932d5bf61ef"
      },
      "execution_count": 26,
      "outputs": [
        {
          "output_type": "execute_result",
          "data": {
            "text/plain": [
              "      Ob_Score       BMI  Consistency_Score  Position_Score  Effacement_Score  \\\n",
              "943  -0.237356  0.036318           -1.18662        0.065848          1.242464   \n",
              "172   2.729598 -0.020881           -1.18662        0.065848         -0.524453   \n",
              "478  -0.237356  0.037939            1.25316        0.065848         -0.524453   \n",
              "1065 -0.237356  0.007768           -1.18662        0.065848         -0.524453   \n",
              "804   5.696552 -0.025018           -1.18662        1.293524         -0.524453   \n",
              "\n",
              "      Dialation_Score  Station_Score  Total_Bishop_Score  Cerv_Len_cms  \\\n",
              "943         -1.295044      -1.315501           -0.495536     -0.468681   \n",
              "172         -1.295044      -0.436903           -1.523037      0.023705   \n",
              "478         -1.295044      -0.436903           -0.495536      0.007895   \n",
              "1065         1.381002       1.320293            0.018215     -1.180070   \n",
              "804         -0.403029      -0.436903           -0.495536     -0.958958   \n",
              "\n",
              "      Cerv_Wid_cms  Induction  \n",
              "943       0.304111   0.252646  \n",
              "172       0.373236   0.252646  \n",
              "478       0.139211   0.252646  \n",
              "1065     -1.469598   0.252646  \n",
              "804       0.040247   0.252646  "
            ],
            "text/html": [
              "\n",
              "  <div id=\"df-01f082e7-7a14-4178-87e7-62d555cf08ce\" class=\"colab-df-container\">\n",
              "    <div>\n",
              "<style scoped>\n",
              "    .dataframe tbody tr th:only-of-type {\n",
              "        vertical-align: middle;\n",
              "    }\n",
              "\n",
              "    .dataframe tbody tr th {\n",
              "        vertical-align: top;\n",
              "    }\n",
              "\n",
              "    .dataframe thead th {\n",
              "        text-align: right;\n",
              "    }\n",
              "</style>\n",
              "<table border=\"1\" class=\"dataframe\">\n",
              "  <thead>\n",
              "    <tr style=\"text-align: right;\">\n",
              "      <th></th>\n",
              "      <th>Ob_Score</th>\n",
              "      <th>BMI</th>\n",
              "      <th>Consistency_Score</th>\n",
              "      <th>Position_Score</th>\n",
              "      <th>Effacement_Score</th>\n",
              "      <th>Dialation_Score</th>\n",
              "      <th>Station_Score</th>\n",
              "      <th>Total_Bishop_Score</th>\n",
              "      <th>Cerv_Len_cms</th>\n",
              "      <th>Cerv_Wid_cms</th>\n",
              "      <th>Induction</th>\n",
              "    </tr>\n",
              "  </thead>\n",
              "  <tbody>\n",
              "    <tr>\n",
              "      <th>943</th>\n",
              "      <td>-0.237356</td>\n",
              "      <td>0.036318</td>\n",
              "      <td>-1.18662</td>\n",
              "      <td>0.065848</td>\n",
              "      <td>1.242464</td>\n",
              "      <td>-1.295044</td>\n",
              "      <td>-1.315501</td>\n",
              "      <td>-0.495536</td>\n",
              "      <td>-0.468681</td>\n",
              "      <td>0.304111</td>\n",
              "      <td>0.252646</td>\n",
              "    </tr>\n",
              "    <tr>\n",
              "      <th>172</th>\n",
              "      <td>2.729598</td>\n",
              "      <td>-0.020881</td>\n",
              "      <td>-1.18662</td>\n",
              "      <td>0.065848</td>\n",
              "      <td>-0.524453</td>\n",
              "      <td>-1.295044</td>\n",
              "      <td>-0.436903</td>\n",
              "      <td>-1.523037</td>\n",
              "      <td>0.023705</td>\n",
              "      <td>0.373236</td>\n",
              "      <td>0.252646</td>\n",
              "    </tr>\n",
              "    <tr>\n",
              "      <th>478</th>\n",
              "      <td>-0.237356</td>\n",
              "      <td>0.037939</td>\n",
              "      <td>1.25316</td>\n",
              "      <td>0.065848</td>\n",
              "      <td>-0.524453</td>\n",
              "      <td>-1.295044</td>\n",
              "      <td>-0.436903</td>\n",
              "      <td>-0.495536</td>\n",
              "      <td>0.007895</td>\n",
              "      <td>0.139211</td>\n",
              "      <td>0.252646</td>\n",
              "    </tr>\n",
              "    <tr>\n",
              "      <th>1065</th>\n",
              "      <td>-0.237356</td>\n",
              "      <td>0.007768</td>\n",
              "      <td>-1.18662</td>\n",
              "      <td>0.065848</td>\n",
              "      <td>-0.524453</td>\n",
              "      <td>1.381002</td>\n",
              "      <td>1.320293</td>\n",
              "      <td>0.018215</td>\n",
              "      <td>-1.180070</td>\n",
              "      <td>-1.469598</td>\n",
              "      <td>0.252646</td>\n",
              "    </tr>\n",
              "    <tr>\n",
              "      <th>804</th>\n",
              "      <td>5.696552</td>\n",
              "      <td>-0.025018</td>\n",
              "      <td>-1.18662</td>\n",
              "      <td>1.293524</td>\n",
              "      <td>-0.524453</td>\n",
              "      <td>-0.403029</td>\n",
              "      <td>-0.436903</td>\n",
              "      <td>-0.495536</td>\n",
              "      <td>-0.958958</td>\n",
              "      <td>0.040247</td>\n",
              "      <td>0.252646</td>\n",
              "    </tr>\n",
              "  </tbody>\n",
              "</table>\n",
              "</div>\n",
              "    <div class=\"colab-df-buttons\">\n",
              "\n",
              "  <div class=\"colab-df-container\">\n",
              "    <button class=\"colab-df-convert\" onclick=\"convertToInteractive('df-01f082e7-7a14-4178-87e7-62d555cf08ce')\"\n",
              "            title=\"Convert this dataframe to an interactive table.\"\n",
              "            style=\"display:none;\">\n",
              "\n",
              "  <svg xmlns=\"http://www.w3.org/2000/svg\" height=\"24px\" viewBox=\"0 -960 960 960\">\n",
              "    <path d=\"M120-120v-720h720v720H120Zm60-500h600v-160H180v160Zm220 220h160v-160H400v160Zm0 220h160v-160H400v160ZM180-400h160v-160H180v160Zm440 0h160v-160H620v160ZM180-180h160v-160H180v160Zm440 0h160v-160H620v160Z\"/>\n",
              "  </svg>\n",
              "    </button>\n",
              "\n",
              "  <style>\n",
              "    .colab-df-container {\n",
              "      display:flex;\n",
              "      gap: 12px;\n",
              "    }\n",
              "\n",
              "    .colab-df-convert {\n",
              "      background-color: #E8F0FE;\n",
              "      border: none;\n",
              "      border-radius: 50%;\n",
              "      cursor: pointer;\n",
              "      display: none;\n",
              "      fill: #1967D2;\n",
              "      height: 32px;\n",
              "      padding: 0 0 0 0;\n",
              "      width: 32px;\n",
              "    }\n",
              "\n",
              "    .colab-df-convert:hover {\n",
              "      background-color: #E2EBFA;\n",
              "      box-shadow: 0px 1px 2px rgba(60, 64, 67, 0.3), 0px 1px 3px 1px rgba(60, 64, 67, 0.15);\n",
              "      fill: #174EA6;\n",
              "    }\n",
              "\n",
              "    .colab-df-buttons div {\n",
              "      margin-bottom: 4px;\n",
              "    }\n",
              "\n",
              "    [theme=dark] .colab-df-convert {\n",
              "      background-color: #3B4455;\n",
              "      fill: #D2E3FC;\n",
              "    }\n",
              "\n",
              "    [theme=dark] .colab-df-convert:hover {\n",
              "      background-color: #434B5C;\n",
              "      box-shadow: 0px 1px 3px 1px rgba(0, 0, 0, 0.15);\n",
              "      filter: drop-shadow(0px 1px 2px rgba(0, 0, 0, 0.3));\n",
              "      fill: #FFFFFF;\n",
              "    }\n",
              "  </style>\n",
              "\n",
              "    <script>\n",
              "      const buttonEl =\n",
              "        document.querySelector('#df-01f082e7-7a14-4178-87e7-62d555cf08ce button.colab-df-convert');\n",
              "      buttonEl.style.display =\n",
              "        google.colab.kernel.accessAllowed ? 'block' : 'none';\n",
              "\n",
              "      async function convertToInteractive(key) {\n",
              "        const element = document.querySelector('#df-01f082e7-7a14-4178-87e7-62d555cf08ce');\n",
              "        const dataTable =\n",
              "          await google.colab.kernel.invokeFunction('convertToInteractive',\n",
              "                                                    [key], {});\n",
              "        if (!dataTable) return;\n",
              "\n",
              "        const docLinkHtml = 'Like what you see? Visit the ' +\n",
              "          '<a target=\"_blank\" href=https://colab.research.google.com/notebooks/data_table.ipynb>data table notebook</a>'\n",
              "          + ' to learn more about interactive tables.';\n",
              "        element.innerHTML = '';\n",
              "        dataTable['output_type'] = 'display_data';\n",
              "        await google.colab.output.renderOutput(dataTable, element);\n",
              "        const docLink = document.createElement('div');\n",
              "        docLink.innerHTML = docLinkHtml;\n",
              "        element.appendChild(docLink);\n",
              "      }\n",
              "    </script>\n",
              "  </div>\n",
              "\n",
              "\n",
              "<div id=\"df-816cfec1-2248-4cea-8eb0-c6edfc579fff\">\n",
              "  <button class=\"colab-df-quickchart\" onclick=\"quickchart('df-816cfec1-2248-4cea-8eb0-c6edfc579fff')\"\n",
              "            title=\"Suggest charts\"\n",
              "            style=\"display:none;\">\n",
              "\n",
              "<svg xmlns=\"http://www.w3.org/2000/svg\" height=\"24px\"viewBox=\"0 0 24 24\"\n",
              "     width=\"24px\">\n",
              "    <g>\n",
              "        <path d=\"M19 3H5c-1.1 0-2 .9-2 2v14c0 1.1.9 2 2 2h14c1.1 0 2-.9 2-2V5c0-1.1-.9-2-2-2zM9 17H7v-7h2v7zm4 0h-2V7h2v10zm4 0h-2v-4h2v4z\"/>\n",
              "    </g>\n",
              "</svg>\n",
              "  </button>\n",
              "\n",
              "<style>\n",
              "  .colab-df-quickchart {\n",
              "      --bg-color: #E8F0FE;\n",
              "      --fill-color: #1967D2;\n",
              "      --hover-bg-color: #E2EBFA;\n",
              "      --hover-fill-color: #174EA6;\n",
              "      --disabled-fill-color: #AAA;\n",
              "      --disabled-bg-color: #DDD;\n",
              "  }\n",
              "\n",
              "  [theme=dark] .colab-df-quickchart {\n",
              "      --bg-color: #3B4455;\n",
              "      --fill-color: #D2E3FC;\n",
              "      --hover-bg-color: #434B5C;\n",
              "      --hover-fill-color: #FFFFFF;\n",
              "      --disabled-bg-color: #3B4455;\n",
              "      --disabled-fill-color: #666;\n",
              "  }\n",
              "\n",
              "  .colab-df-quickchart {\n",
              "    background-color: var(--bg-color);\n",
              "    border: none;\n",
              "    border-radius: 50%;\n",
              "    cursor: pointer;\n",
              "    display: none;\n",
              "    fill: var(--fill-color);\n",
              "    height: 32px;\n",
              "    padding: 0;\n",
              "    width: 32px;\n",
              "  }\n",
              "\n",
              "  .colab-df-quickchart:hover {\n",
              "    background-color: var(--hover-bg-color);\n",
              "    box-shadow: 0 1px 2px rgba(60, 64, 67, 0.3), 0 1px 3px 1px rgba(60, 64, 67, 0.15);\n",
              "    fill: var(--button-hover-fill-color);\n",
              "  }\n",
              "\n",
              "  .colab-df-quickchart-complete:disabled,\n",
              "  .colab-df-quickchart-complete:disabled:hover {\n",
              "    background-color: var(--disabled-bg-color);\n",
              "    fill: var(--disabled-fill-color);\n",
              "    box-shadow: none;\n",
              "  }\n",
              "\n",
              "  .colab-df-spinner {\n",
              "    border: 2px solid var(--fill-color);\n",
              "    border-color: transparent;\n",
              "    border-bottom-color: var(--fill-color);\n",
              "    animation:\n",
              "      spin 1s steps(1) infinite;\n",
              "  }\n",
              "\n",
              "  @keyframes spin {\n",
              "    0% {\n",
              "      border-color: transparent;\n",
              "      border-bottom-color: var(--fill-color);\n",
              "      border-left-color: var(--fill-color);\n",
              "    }\n",
              "    20% {\n",
              "      border-color: transparent;\n",
              "      border-left-color: var(--fill-color);\n",
              "      border-top-color: var(--fill-color);\n",
              "    }\n",
              "    30% {\n",
              "      border-color: transparent;\n",
              "      border-left-color: var(--fill-color);\n",
              "      border-top-color: var(--fill-color);\n",
              "      border-right-color: var(--fill-color);\n",
              "    }\n",
              "    40% {\n",
              "      border-color: transparent;\n",
              "      border-right-color: var(--fill-color);\n",
              "      border-top-color: var(--fill-color);\n",
              "    }\n",
              "    60% {\n",
              "      border-color: transparent;\n",
              "      border-right-color: var(--fill-color);\n",
              "    }\n",
              "    80% {\n",
              "      border-color: transparent;\n",
              "      border-right-color: var(--fill-color);\n",
              "      border-bottom-color: var(--fill-color);\n",
              "    }\n",
              "    90% {\n",
              "      border-color: transparent;\n",
              "      border-bottom-color: var(--fill-color);\n",
              "    }\n",
              "  }\n",
              "</style>\n",
              "\n",
              "  <script>\n",
              "    async function quickchart(key) {\n",
              "      const quickchartButtonEl =\n",
              "        document.querySelector('#' + key + ' button');\n",
              "      quickchartButtonEl.disabled = true;  // To prevent multiple clicks.\n",
              "      quickchartButtonEl.classList.add('colab-df-spinner');\n",
              "      try {\n",
              "        const charts = await google.colab.kernel.invokeFunction(\n",
              "            'suggestCharts', [key], {});\n",
              "      } catch (error) {\n",
              "        console.error('Error during call to suggestCharts:', error);\n",
              "      }\n",
              "      quickchartButtonEl.classList.remove('colab-df-spinner');\n",
              "      quickchartButtonEl.classList.add('colab-df-quickchart-complete');\n",
              "    }\n",
              "    (() => {\n",
              "      let quickchartButtonEl =\n",
              "        document.querySelector('#df-816cfec1-2248-4cea-8eb0-c6edfc579fff button');\n",
              "      quickchartButtonEl.style.display =\n",
              "        google.colab.kernel.accessAllowed ? 'block' : 'none';\n",
              "    })();\n",
              "  </script>\n",
              "</div>\n",
              "\n",
              "    </div>\n",
              "  </div>\n"
            ]
          },
          "metadata": {},
          "execution_count": 26
        }
      ]
    },
    {
      "cell_type": "code",
      "source": [
        "from sklearn.model_selection import train_test_split\n",
        "x_train, x_test, y_train, y_test = train_test_split(x, y, test_size=0.20, random_state=0)\n",
        "x_train.shape , y_train.shape, x_test.shape , y_test.shape"
      ],
      "metadata": {
        "colab": {
          "base_uri": "https://localhost:8080/"
        },
        "id": "UKhYH_hJ88sh",
        "outputId": "07132a4a-1c31-4f44-c821-ef49a7c67408"
      },
      "execution_count": 27,
      "outputs": [
        {
          "output_type": "execute_result",
          "data": {
            "text/plain": [
              "((880, 11), (880,), (220, 11), (220,))"
            ]
          },
          "metadata": {},
          "execution_count": 27
        }
      ]
    },
    {
      "cell_type": "code",
      "source": [
        "import tensorflow as tf\n",
        "from tensorflow import keras\n",
        "from keras import regularizers\n",
        "\n",
        "model=keras.Sequential([\n",
        "    keras.layers.Dense(10,input_shape=(11,),activation='relu'),\n",
        "    keras.layers.Dense(7,activation='relu'),\n",
        "    keras.layers.Dense(4,kernel_regularizer=regularizers.l2(0.01),\n",
        "                       activity_regularizer=regularizers.l1(0.01),activation='relu'),\n",
        "    keras.layers.Dense(1,activation='sigmoid'),\n",
        "])\n",
        "\n",
        "model.compile(optimizer='adam',\n",
        "              loss='binary_crossentropy',\n",
        "              metrics=['accuracy'])\n",
        "\n",
        "model.fit(x_train,y_train,epochs=200)"
      ],
      "metadata": {
        "colab": {
          "base_uri": "https://localhost:8080/"
        },
        "id": "-ROqEACU9CrE",
        "outputId": "28f09efb-09fc-4847-e834-3e4a3f3cda23"
      },
      "execution_count": 29,
      "outputs": [
        {
          "output_type": "stream",
          "name": "stdout",
          "text": [
            "Epoch 1/200\n",
            "28/28 [==============================] - 1s 2ms/step - loss: 0.9368 - accuracy: 0.4284\n",
            "Epoch 2/200\n",
            "28/28 [==============================] - 0s 2ms/step - loss: 0.8185 - accuracy: 0.5080\n",
            "Epoch 3/200\n",
            "28/28 [==============================] - 0s 2ms/step - loss: 0.7672 - accuracy: 0.5773\n",
            "Epoch 4/200\n",
            "28/28 [==============================] - 0s 2ms/step - loss: 0.7390 - accuracy: 0.6352\n",
            "Epoch 5/200\n",
            "28/28 [==============================] - 0s 2ms/step - loss: 0.7212 - accuracy: 0.6750\n",
            "Epoch 6/200\n",
            "28/28 [==============================] - 0s 2ms/step - loss: 0.7077 - accuracy: 0.7000\n",
            "Epoch 7/200\n",
            "28/28 [==============================] - 0s 2ms/step - loss: 0.6963 - accuracy: 0.7205\n",
            "Epoch 8/200\n",
            "28/28 [==============================] - 0s 2ms/step - loss: 0.6851 - accuracy: 0.7375\n",
            "Epoch 9/200\n",
            "28/28 [==============================] - 0s 3ms/step - loss: 0.6719 - accuracy: 0.7443\n",
            "Epoch 10/200\n",
            "28/28 [==============================] - 0s 3ms/step - loss: 0.6560 - accuracy: 0.7466\n",
            "Epoch 11/200\n",
            "28/28 [==============================] - 0s 3ms/step - loss: 0.6372 - accuracy: 0.7511\n",
            "Epoch 12/200\n",
            "28/28 [==============================] - 0s 3ms/step - loss: 0.6121 - accuracy: 0.7466\n",
            "Epoch 13/200\n",
            "28/28 [==============================] - 0s 3ms/step - loss: 0.5896 - accuracy: 0.7455\n",
            "Epoch 14/200\n",
            "28/28 [==============================] - 0s 3ms/step - loss: 0.5784 - accuracy: 0.7511\n",
            "Epoch 15/200\n",
            "28/28 [==============================] - 0s 3ms/step - loss: 0.5721 - accuracy: 0.7545\n",
            "Epoch 16/200\n",
            "28/28 [==============================] - 0s 3ms/step - loss: 0.5674 - accuracy: 0.7523\n",
            "Epoch 17/200\n",
            "28/28 [==============================] - 0s 3ms/step - loss: 0.5646 - accuracy: 0.7545\n",
            "Epoch 18/200\n",
            "28/28 [==============================] - 0s 3ms/step - loss: 0.5620 - accuracy: 0.7557\n",
            "Epoch 19/200\n",
            "28/28 [==============================] - 0s 3ms/step - loss: 0.5593 - accuracy: 0.7568\n",
            "Epoch 20/200\n",
            "28/28 [==============================] - 0s 3ms/step - loss: 0.5566 - accuracy: 0.7523\n",
            "Epoch 21/200\n",
            "28/28 [==============================] - 0s 3ms/step - loss: 0.5553 - accuracy: 0.7511\n",
            "Epoch 22/200\n",
            "28/28 [==============================] - 0s 3ms/step - loss: 0.5536 - accuracy: 0.7489\n",
            "Epoch 23/200\n",
            "28/28 [==============================] - 0s 3ms/step - loss: 0.5516 - accuracy: 0.7511\n",
            "Epoch 24/200\n",
            "28/28 [==============================] - 0s 3ms/step - loss: 0.5497 - accuracy: 0.7500\n",
            "Epoch 25/200\n",
            "28/28 [==============================] - 0s 2ms/step - loss: 0.5486 - accuracy: 0.7489\n",
            "Epoch 26/200\n",
            "28/28 [==============================] - 0s 3ms/step - loss: 0.5470 - accuracy: 0.7489\n",
            "Epoch 27/200\n",
            "28/28 [==============================] - 0s 3ms/step - loss: 0.5457 - accuracy: 0.7500\n",
            "Epoch 28/200\n",
            "28/28 [==============================] - 0s 3ms/step - loss: 0.5442 - accuracy: 0.7500\n",
            "Epoch 29/200\n",
            "28/28 [==============================] - 0s 3ms/step - loss: 0.5431 - accuracy: 0.7489\n",
            "Epoch 30/200\n",
            "28/28 [==============================] - 0s 3ms/step - loss: 0.5416 - accuracy: 0.7523\n",
            "Epoch 31/200\n",
            "28/28 [==============================] - 0s 3ms/step - loss: 0.5414 - accuracy: 0.7500\n",
            "Epoch 32/200\n",
            "28/28 [==============================] - 0s 3ms/step - loss: 0.5394 - accuracy: 0.7500\n",
            "Epoch 33/200\n",
            "28/28 [==============================] - 0s 3ms/step - loss: 0.5386 - accuracy: 0.7511\n",
            "Epoch 34/200\n",
            "28/28 [==============================] - 0s 3ms/step - loss: 0.5374 - accuracy: 0.7511\n",
            "Epoch 35/200\n",
            "28/28 [==============================] - 0s 2ms/step - loss: 0.5363 - accuracy: 0.7500\n",
            "Epoch 36/200\n",
            "28/28 [==============================] - 0s 3ms/step - loss: 0.5359 - accuracy: 0.7477\n",
            "Epoch 37/200\n",
            "28/28 [==============================] - 0s 3ms/step - loss: 0.5350 - accuracy: 0.7534\n",
            "Epoch 38/200\n",
            "28/28 [==============================] - 0s 3ms/step - loss: 0.5339 - accuracy: 0.7500\n",
            "Epoch 39/200\n",
            "28/28 [==============================] - 0s 3ms/step - loss: 0.5332 - accuracy: 0.7489\n",
            "Epoch 40/200\n",
            "28/28 [==============================] - 0s 3ms/step - loss: 0.5323 - accuracy: 0.7500\n",
            "Epoch 41/200\n",
            "28/28 [==============================] - 0s 3ms/step - loss: 0.5316 - accuracy: 0.7511\n",
            "Epoch 42/200\n",
            "28/28 [==============================] - 0s 3ms/step - loss: 0.5307 - accuracy: 0.7511\n",
            "Epoch 43/200\n",
            "28/28 [==============================] - 0s 3ms/step - loss: 0.5302 - accuracy: 0.7534\n",
            "Epoch 44/200\n",
            "28/28 [==============================] - 0s 3ms/step - loss: 0.5288 - accuracy: 0.7500\n",
            "Epoch 45/200\n",
            "28/28 [==============================] - 0s 3ms/step - loss: 0.5284 - accuracy: 0.7523\n",
            "Epoch 46/200\n",
            "28/28 [==============================] - 0s 3ms/step - loss: 0.5272 - accuracy: 0.7511\n",
            "Epoch 47/200\n",
            "28/28 [==============================] - 0s 3ms/step - loss: 0.5265 - accuracy: 0.7511\n",
            "Epoch 48/200\n",
            "28/28 [==============================] - 0s 3ms/step - loss: 0.5259 - accuracy: 0.7523\n",
            "Epoch 49/200\n",
            "28/28 [==============================] - 0s 3ms/step - loss: 0.5251 - accuracy: 0.7545\n",
            "Epoch 50/200\n",
            "28/28 [==============================] - 0s 3ms/step - loss: 0.5244 - accuracy: 0.7557\n",
            "Epoch 51/200\n",
            "28/28 [==============================] - 0s 3ms/step - loss: 0.5236 - accuracy: 0.7568\n",
            "Epoch 52/200\n",
            "28/28 [==============================] - 0s 3ms/step - loss: 0.5239 - accuracy: 0.7534\n",
            "Epoch 53/200\n",
            "28/28 [==============================] - 0s 3ms/step - loss: 0.5232 - accuracy: 0.7557\n",
            "Epoch 54/200\n",
            "28/28 [==============================] - 0s 3ms/step - loss: 0.5224 - accuracy: 0.7557\n",
            "Epoch 55/200\n",
            "28/28 [==============================] - 0s 3ms/step - loss: 0.5215 - accuracy: 0.7568\n",
            "Epoch 56/200\n",
            "28/28 [==============================] - 0s 3ms/step - loss: 0.5215 - accuracy: 0.7523\n",
            "Epoch 57/200\n",
            "28/28 [==============================] - 0s 3ms/step - loss: 0.5203 - accuracy: 0.7568\n",
            "Epoch 58/200\n",
            "28/28 [==============================] - 0s 3ms/step - loss: 0.5199 - accuracy: 0.7568\n",
            "Epoch 59/200\n",
            "28/28 [==============================] - 0s 3ms/step - loss: 0.5192 - accuracy: 0.7625\n",
            "Epoch 60/200\n",
            "28/28 [==============================] - 0s 3ms/step - loss: 0.5186 - accuracy: 0.7568\n",
            "Epoch 61/200\n",
            "28/28 [==============================] - 0s 3ms/step - loss: 0.5181 - accuracy: 0.7602\n",
            "Epoch 62/200\n",
            "28/28 [==============================] - 0s 3ms/step - loss: 0.5176 - accuracy: 0.7591\n",
            "Epoch 63/200\n",
            "28/28 [==============================] - 0s 3ms/step - loss: 0.5170 - accuracy: 0.7580\n",
            "Epoch 64/200\n",
            "28/28 [==============================] - 0s 3ms/step - loss: 0.5170 - accuracy: 0.7568\n",
            "Epoch 65/200\n",
            "28/28 [==============================] - 0s 3ms/step - loss: 0.5158 - accuracy: 0.7591\n",
            "Epoch 66/200\n",
            "28/28 [==============================] - 0s 3ms/step - loss: 0.5153 - accuracy: 0.7580\n",
            "Epoch 67/200\n",
            "28/28 [==============================] - 0s 3ms/step - loss: 0.5146 - accuracy: 0.7591\n",
            "Epoch 68/200\n",
            "28/28 [==============================] - 0s 3ms/step - loss: 0.5145 - accuracy: 0.7602\n",
            "Epoch 69/200\n",
            "28/28 [==============================] - 0s 3ms/step - loss: 0.5153 - accuracy: 0.7557\n",
            "Epoch 70/200\n",
            "28/28 [==============================] - 0s 3ms/step - loss: 0.5135 - accuracy: 0.7557\n",
            "Epoch 71/200\n",
            "28/28 [==============================] - 0s 3ms/step - loss: 0.5130 - accuracy: 0.7591\n",
            "Epoch 72/200\n",
            "28/28 [==============================] - 0s 3ms/step - loss: 0.5118 - accuracy: 0.7625\n",
            "Epoch 73/200\n",
            "28/28 [==============================] - 0s 3ms/step - loss: 0.5110 - accuracy: 0.7614\n",
            "Epoch 74/200\n",
            "28/28 [==============================] - 0s 3ms/step - loss: 0.5108 - accuracy: 0.7591\n",
            "Epoch 75/200\n",
            "28/28 [==============================] - 0s 3ms/step - loss: 0.5101 - accuracy: 0.7602\n",
            "Epoch 76/200\n",
            "28/28 [==============================] - 0s 3ms/step - loss: 0.5096 - accuracy: 0.7625\n",
            "Epoch 77/200\n",
            "28/28 [==============================] - 0s 3ms/step - loss: 0.5094 - accuracy: 0.7636\n",
            "Epoch 78/200\n",
            "28/28 [==============================] - 0s 3ms/step - loss: 0.5089 - accuracy: 0.7614\n",
            "Epoch 79/200\n",
            "28/28 [==============================] - 0s 3ms/step - loss: 0.5081 - accuracy: 0.7591\n",
            "Epoch 80/200\n",
            "28/28 [==============================] - 0s 3ms/step - loss: 0.5078 - accuracy: 0.7591\n",
            "Epoch 81/200\n",
            "28/28 [==============================] - 0s 3ms/step - loss: 0.5069 - accuracy: 0.7602\n",
            "Epoch 82/200\n",
            "28/28 [==============================] - 0s 3ms/step - loss: 0.5062 - accuracy: 0.7625\n",
            "Epoch 83/200\n",
            "28/28 [==============================] - 0s 3ms/step - loss: 0.5055 - accuracy: 0.7625\n",
            "Epoch 84/200\n",
            "28/28 [==============================] - 0s 3ms/step - loss: 0.5048 - accuracy: 0.7625\n",
            "Epoch 85/200\n",
            "28/28 [==============================] - 0s 2ms/step - loss: 0.5042 - accuracy: 0.7625\n",
            "Epoch 86/200\n",
            "28/28 [==============================] - 0s 2ms/step - loss: 0.5036 - accuracy: 0.7670\n",
            "Epoch 87/200\n",
            "28/28 [==============================] - 0s 2ms/step - loss: 0.5028 - accuracy: 0.7648\n",
            "Epoch 88/200\n",
            "28/28 [==============================] - 0s 2ms/step - loss: 0.5019 - accuracy: 0.7636\n",
            "Epoch 89/200\n",
            "28/28 [==============================] - 0s 2ms/step - loss: 0.5013 - accuracy: 0.7659\n",
            "Epoch 90/200\n",
            "28/28 [==============================] - 0s 2ms/step - loss: 0.5011 - accuracy: 0.7648\n",
            "Epoch 91/200\n",
            "28/28 [==============================] - 0s 2ms/step - loss: 0.5003 - accuracy: 0.7614\n",
            "Epoch 92/200\n",
            "28/28 [==============================] - 0s 2ms/step - loss: 0.4996 - accuracy: 0.7670\n",
            "Epoch 93/200\n",
            "28/28 [==============================] - 0s 2ms/step - loss: 0.4990 - accuracy: 0.7670\n",
            "Epoch 94/200\n",
            "28/28 [==============================] - 0s 2ms/step - loss: 0.4987 - accuracy: 0.7727\n",
            "Epoch 95/200\n",
            "28/28 [==============================] - 0s 2ms/step - loss: 0.4981 - accuracy: 0.7670\n",
            "Epoch 96/200\n",
            "28/28 [==============================] - 0s 3ms/step - loss: 0.4975 - accuracy: 0.7693\n",
            "Epoch 97/200\n",
            "28/28 [==============================] - 0s 2ms/step - loss: 0.4964 - accuracy: 0.7739\n",
            "Epoch 98/200\n",
            "28/28 [==============================] - 0s 2ms/step - loss: 0.4955 - accuracy: 0.7727\n",
            "Epoch 99/200\n",
            "28/28 [==============================] - 0s 2ms/step - loss: 0.4949 - accuracy: 0.7750\n",
            "Epoch 100/200\n",
            "28/28 [==============================] - 0s 2ms/step - loss: 0.4942 - accuracy: 0.7750\n",
            "Epoch 101/200\n",
            "28/28 [==============================] - 0s 2ms/step - loss: 0.4934 - accuracy: 0.7716\n",
            "Epoch 102/200\n",
            "28/28 [==============================] - 0s 2ms/step - loss: 0.4931 - accuracy: 0.7739\n",
            "Epoch 103/200\n",
            "28/28 [==============================] - 0s 2ms/step - loss: 0.4922 - accuracy: 0.7773\n",
            "Epoch 104/200\n",
            "28/28 [==============================] - 0s 2ms/step - loss: 0.4914 - accuracy: 0.7761\n",
            "Epoch 105/200\n",
            "28/28 [==============================] - 0s 2ms/step - loss: 0.4908 - accuracy: 0.7761\n",
            "Epoch 106/200\n",
            "28/28 [==============================] - 0s 2ms/step - loss: 0.4903 - accuracy: 0.7784\n",
            "Epoch 107/200\n",
            "28/28 [==============================] - 0s 2ms/step - loss: 0.4900 - accuracy: 0.7716\n",
            "Epoch 108/200\n",
            "28/28 [==============================] - 0s 2ms/step - loss: 0.4890 - accuracy: 0.7784\n",
            "Epoch 109/200\n",
            "28/28 [==============================] - 0s 2ms/step - loss: 0.4892 - accuracy: 0.7750\n",
            "Epoch 110/200\n",
            "28/28 [==============================] - 0s 2ms/step - loss: 0.4885 - accuracy: 0.7784\n",
            "Epoch 111/200\n",
            "28/28 [==============================] - 0s 2ms/step - loss: 0.4880 - accuracy: 0.7784\n",
            "Epoch 112/200\n",
            "28/28 [==============================] - 0s 2ms/step - loss: 0.4870 - accuracy: 0.7784\n",
            "Epoch 113/200\n",
            "28/28 [==============================] - 0s 2ms/step - loss: 0.4868 - accuracy: 0.7795\n",
            "Epoch 114/200\n",
            "28/28 [==============================] - 0s 2ms/step - loss: 0.4856 - accuracy: 0.7807\n",
            "Epoch 115/200\n",
            "28/28 [==============================] - 0s 2ms/step - loss: 0.4851 - accuracy: 0.7784\n",
            "Epoch 116/200\n",
            "28/28 [==============================] - 0s 2ms/step - loss: 0.4848 - accuracy: 0.7807\n",
            "Epoch 117/200\n",
            "28/28 [==============================] - 0s 2ms/step - loss: 0.4841 - accuracy: 0.7830\n",
            "Epoch 118/200\n",
            "28/28 [==============================] - 0s 2ms/step - loss: 0.4836 - accuracy: 0.7830\n",
            "Epoch 119/200\n",
            "28/28 [==============================] - 0s 2ms/step - loss: 0.4829 - accuracy: 0.7795\n",
            "Epoch 120/200\n",
            "28/28 [==============================] - 0s 2ms/step - loss: 0.4828 - accuracy: 0.7830\n",
            "Epoch 121/200\n",
            "28/28 [==============================] - 0s 2ms/step - loss: 0.4823 - accuracy: 0.7830\n",
            "Epoch 122/200\n",
            "28/28 [==============================] - 0s 2ms/step - loss: 0.4818 - accuracy: 0.7830\n",
            "Epoch 123/200\n",
            "28/28 [==============================] - 0s 2ms/step - loss: 0.4817 - accuracy: 0.7852\n",
            "Epoch 124/200\n",
            "28/28 [==============================] - 0s 2ms/step - loss: 0.4811 - accuracy: 0.7807\n",
            "Epoch 125/200\n",
            "28/28 [==============================] - 0s 2ms/step - loss: 0.4801 - accuracy: 0.7852\n",
            "Epoch 126/200\n",
            "28/28 [==============================] - 0s 2ms/step - loss: 0.4796 - accuracy: 0.7864\n",
            "Epoch 127/200\n",
            "28/28 [==============================] - 0s 3ms/step - loss: 0.4793 - accuracy: 0.7875\n",
            "Epoch 128/200\n",
            "28/28 [==============================] - 0s 2ms/step - loss: 0.4798 - accuracy: 0.7807\n",
            "Epoch 129/200\n",
            "28/28 [==============================] - 0s 2ms/step - loss: 0.4782 - accuracy: 0.7852\n",
            "Epoch 130/200\n",
            "28/28 [==============================] - 0s 2ms/step - loss: 0.4782 - accuracy: 0.7864\n",
            "Epoch 131/200\n",
            "28/28 [==============================] - 0s 2ms/step - loss: 0.4786 - accuracy: 0.7864\n",
            "Epoch 132/200\n",
            "28/28 [==============================] - 0s 2ms/step - loss: 0.4766 - accuracy: 0.7886\n",
            "Epoch 133/200\n",
            "28/28 [==============================] - 0s 2ms/step - loss: 0.4767 - accuracy: 0.7898\n",
            "Epoch 134/200\n",
            "28/28 [==============================] - 0s 2ms/step - loss: 0.4768 - accuracy: 0.7852\n",
            "Epoch 135/200\n",
            "28/28 [==============================] - 0s 2ms/step - loss: 0.4761 - accuracy: 0.7886\n",
            "Epoch 136/200\n",
            "28/28 [==============================] - 0s 2ms/step - loss: 0.4755 - accuracy: 0.7875\n",
            "Epoch 137/200\n",
            "28/28 [==============================] - 0s 2ms/step - loss: 0.4748 - accuracy: 0.7898\n",
            "Epoch 138/200\n",
            "28/28 [==============================] - 0s 2ms/step - loss: 0.4746 - accuracy: 0.7898\n",
            "Epoch 139/200\n",
            "28/28 [==============================] - 0s 2ms/step - loss: 0.4740 - accuracy: 0.7909\n",
            "Epoch 140/200\n",
            "28/28 [==============================] - 0s 2ms/step - loss: 0.4735 - accuracy: 0.7909\n",
            "Epoch 141/200\n",
            "28/28 [==============================] - 0s 2ms/step - loss: 0.4738 - accuracy: 0.7932\n",
            "Epoch 142/200\n",
            "28/28 [==============================] - 0s 2ms/step - loss: 0.4727 - accuracy: 0.7875\n",
            "Epoch 143/200\n",
            "28/28 [==============================] - 0s 3ms/step - loss: 0.4723 - accuracy: 0.7920\n",
            "Epoch 144/200\n",
            "28/28 [==============================] - 0s 2ms/step - loss: 0.4718 - accuracy: 0.7909\n",
            "Epoch 145/200\n",
            "28/28 [==============================] - 0s 2ms/step - loss: 0.4715 - accuracy: 0.8000\n",
            "Epoch 146/200\n",
            "28/28 [==============================] - 0s 2ms/step - loss: 0.4710 - accuracy: 0.7943\n",
            "Epoch 147/200\n",
            "28/28 [==============================] - 0s 2ms/step - loss: 0.4704 - accuracy: 0.7909\n",
            "Epoch 148/200\n",
            "28/28 [==============================] - 0s 2ms/step - loss: 0.4699 - accuracy: 0.7977\n",
            "Epoch 149/200\n",
            "28/28 [==============================] - 0s 2ms/step - loss: 0.4706 - accuracy: 0.7955\n",
            "Epoch 150/200\n",
            "28/28 [==============================] - 0s 2ms/step - loss: 0.4694 - accuracy: 0.7966\n",
            "Epoch 151/200\n",
            "28/28 [==============================] - 0s 2ms/step - loss: 0.4692 - accuracy: 0.7920\n",
            "Epoch 152/200\n",
            "28/28 [==============================] - 0s 2ms/step - loss: 0.4687 - accuracy: 0.7943\n",
            "Epoch 153/200\n",
            "28/28 [==============================] - 0s 2ms/step - loss: 0.4683 - accuracy: 0.7955\n",
            "Epoch 154/200\n",
            "28/28 [==============================] - 0s 2ms/step - loss: 0.4680 - accuracy: 0.7943\n",
            "Epoch 155/200\n",
            "28/28 [==============================] - 0s 2ms/step - loss: 0.4680 - accuracy: 0.7932\n",
            "Epoch 156/200\n",
            "28/28 [==============================] - 0s 2ms/step - loss: 0.4670 - accuracy: 0.7966\n",
            "Epoch 157/200\n",
            "28/28 [==============================] - 0s 2ms/step - loss: 0.4673 - accuracy: 0.7966\n",
            "Epoch 158/200\n",
            "28/28 [==============================] - 0s 3ms/step - loss: 0.4666 - accuracy: 0.7977\n",
            "Epoch 159/200\n",
            "28/28 [==============================] - 0s 2ms/step - loss: 0.4659 - accuracy: 0.7955\n",
            "Epoch 160/200\n",
            "28/28 [==============================] - 0s 2ms/step - loss: 0.4662 - accuracy: 0.7943\n",
            "Epoch 161/200\n",
            "28/28 [==============================] - 0s 2ms/step - loss: 0.4659 - accuracy: 0.7943\n",
            "Epoch 162/200\n",
            "28/28 [==============================] - 0s 2ms/step - loss: 0.4652 - accuracy: 0.8023\n",
            "Epoch 163/200\n",
            "28/28 [==============================] - 0s 2ms/step - loss: 0.4649 - accuracy: 0.7955\n",
            "Epoch 164/200\n",
            "28/28 [==============================] - 0s 2ms/step - loss: 0.4641 - accuracy: 0.8000\n",
            "Epoch 165/200\n",
            "28/28 [==============================] - 0s 2ms/step - loss: 0.4640 - accuracy: 0.8011\n",
            "Epoch 166/200\n",
            "28/28 [==============================] - 0s 2ms/step - loss: 0.4643 - accuracy: 0.7966\n",
            "Epoch 167/200\n",
            "28/28 [==============================] - 0s 2ms/step - loss: 0.4631 - accuracy: 0.7977\n",
            "Epoch 168/200\n",
            "28/28 [==============================] - 0s 2ms/step - loss: 0.4626 - accuracy: 0.8000\n",
            "Epoch 169/200\n",
            "28/28 [==============================] - 0s 2ms/step - loss: 0.4623 - accuracy: 0.7977\n",
            "Epoch 170/200\n",
            "28/28 [==============================] - 0s 2ms/step - loss: 0.4621 - accuracy: 0.7989\n",
            "Epoch 171/200\n",
            "28/28 [==============================] - 0s 2ms/step - loss: 0.4616 - accuracy: 0.8034\n",
            "Epoch 172/200\n",
            "28/28 [==============================] - 0s 2ms/step - loss: 0.4616 - accuracy: 0.8000\n",
            "Epoch 173/200\n",
            "28/28 [==============================] - 0s 2ms/step - loss: 0.4617 - accuracy: 0.8000\n",
            "Epoch 174/200\n",
            "28/28 [==============================] - 0s 2ms/step - loss: 0.4606 - accuracy: 0.8011\n",
            "Epoch 175/200\n",
            "28/28 [==============================] - 0s 2ms/step - loss: 0.4603 - accuracy: 0.7977\n",
            "Epoch 176/200\n",
            "28/28 [==============================] - 0s 3ms/step - loss: 0.4598 - accuracy: 0.8034\n",
            "Epoch 177/200\n",
            "28/28 [==============================] - 0s 2ms/step - loss: 0.4593 - accuracy: 0.8023\n",
            "Epoch 178/200\n",
            "28/28 [==============================] - 0s 2ms/step - loss: 0.4596 - accuracy: 0.8034\n",
            "Epoch 179/200\n",
            "28/28 [==============================] - 0s 2ms/step - loss: 0.4591 - accuracy: 0.7989\n",
            "Epoch 180/200\n",
            "28/28 [==============================] - 0s 2ms/step - loss: 0.4584 - accuracy: 0.8045\n",
            "Epoch 181/200\n",
            "28/28 [==============================] - 0s 2ms/step - loss: 0.4596 - accuracy: 0.7977\n",
            "Epoch 182/200\n",
            "28/28 [==============================] - 0s 2ms/step - loss: 0.4588 - accuracy: 0.7989\n",
            "Epoch 183/200\n",
            "28/28 [==============================] - 0s 2ms/step - loss: 0.4574 - accuracy: 0.8045\n",
            "Epoch 184/200\n",
            "28/28 [==============================] - 0s 2ms/step - loss: 0.4578 - accuracy: 0.8023\n",
            "Epoch 185/200\n",
            "28/28 [==============================] - 0s 2ms/step - loss: 0.4571 - accuracy: 0.8023\n",
            "Epoch 186/200\n",
            "28/28 [==============================] - 0s 2ms/step - loss: 0.4571 - accuracy: 0.7977\n",
            "Epoch 187/200\n",
            "28/28 [==============================] - 0s 2ms/step - loss: 0.4568 - accuracy: 0.8023\n",
            "Epoch 188/200\n",
            "28/28 [==============================] - 0s 2ms/step - loss: 0.4568 - accuracy: 0.8011\n",
            "Epoch 189/200\n",
            "28/28 [==============================] - 0s 3ms/step - loss: 0.4557 - accuracy: 0.8034\n",
            "Epoch 190/200\n",
            "28/28 [==============================] - 0s 2ms/step - loss: 0.4555 - accuracy: 0.8023\n",
            "Epoch 191/200\n",
            "28/28 [==============================] - 0s 2ms/step - loss: 0.4550 - accuracy: 0.8023\n",
            "Epoch 192/200\n",
            "28/28 [==============================] - 0s 2ms/step - loss: 0.4551 - accuracy: 0.8057\n",
            "Epoch 193/200\n",
            "28/28 [==============================] - 0s 2ms/step - loss: 0.4553 - accuracy: 0.7977\n",
            "Epoch 194/200\n",
            "28/28 [==============================] - 0s 2ms/step - loss: 0.4544 - accuracy: 0.8011\n",
            "Epoch 195/200\n",
            "28/28 [==============================] - 0s 2ms/step - loss: 0.4556 - accuracy: 0.8011\n",
            "Epoch 196/200\n",
            "28/28 [==============================] - 0s 2ms/step - loss: 0.4534 - accuracy: 0.8023\n",
            "Epoch 197/200\n",
            "28/28 [==============================] - 0s 2ms/step - loss: 0.4533 - accuracy: 0.8057\n",
            "Epoch 198/200\n",
            "28/28 [==============================] - 0s 2ms/step - loss: 0.4530 - accuracy: 0.8011\n",
            "Epoch 199/200\n",
            "28/28 [==============================] - 0s 2ms/step - loss: 0.4527 - accuracy: 0.8034\n",
            "Epoch 200/200\n",
            "28/28 [==============================] - 0s 2ms/step - loss: 0.4527 - accuracy: 0.8023\n"
          ]
        },
        {
          "output_type": "execute_result",
          "data": {
            "text/plain": [
              "<keras.src.callbacks.History at 0x7b96de790220>"
            ]
          },
          "metadata": {},
          "execution_count": 29
        }
      ]
    },
    {
      "cell_type": "code",
      "source": [
        "model.evaluate(x_test)"
      ],
      "metadata": {
        "colab": {
          "base_uri": "https://localhost:8080/"
        },
        "id": "xWvT9_uG9La7",
        "outputId": "99cd9869-1c7c-49a2-94c3-51ea1e39b245"
      },
      "execution_count": 30,
      "outputs": [
        {
          "output_type": "stream",
          "name": "stdout",
          "text": [
            "7/7 [==============================] - 0s 2ms/step - loss: 0.0185 - accuracy: 0.0000e+00\n"
          ]
        },
        {
          "output_type": "execute_result",
          "data": {
            "text/plain": [
              "[0.018543114885687828, 0.0]"
            ]
          },
          "metadata": {},
          "execution_count": 30
        }
      ]
    },
    {
      "cell_type": "code",
      "source": [
        "p=model.predict(x_test)\n",
        "p[:5]"
      ],
      "metadata": {
        "colab": {
          "base_uri": "https://localhost:8080/"
        },
        "id": "6AqTWOzn90iQ",
        "outputId": "b213345f-9774-4a97-b683-d9af32973995"
      },
      "execution_count": 31,
      "outputs": [
        {
          "output_type": "stream",
          "name": "stdout",
          "text": [
            "7/7 [==============================] - 0s 2ms/step\n"
          ]
        },
        {
          "output_type": "execute_result",
          "data": {
            "text/plain": [
              "array([[0.27270836],\n",
              "       [0.03427497],\n",
              "       [0.21677662],\n",
              "       [0.01775254],\n",
              "       [0.80393267]], dtype=float32)"
            ]
          },
          "metadata": {},
          "execution_count": 31
        }
      ]
    },
    {
      "cell_type": "code",
      "source": [
        "y_test[:5]"
      ],
      "metadata": {
        "colab": {
          "base_uri": "https://localhost:8080/"
        },
        "id": "2j0jtELa93CS",
        "outputId": "fc273d36-e2a1-44ad-b7fd-e61c5e749835"
      },
      "execution_count": 32,
      "outputs": [
        {
          "output_type": "execute_result",
          "data": {
            "text/plain": [
              "395     0.0\n",
              "860     0.0\n",
              "477     0.0\n",
              "671     0.0\n",
              "1002    1.0\n",
              "Name: Del_mode, dtype: float64"
            ]
          },
          "metadata": {},
          "execution_count": 32
        }
      ]
    },
    {
      "cell_type": "code",
      "source": [
        "predict=[]\n",
        "for ele in p:\n",
        "  if ele>0.5:\n",
        "    predict.append(1)\n",
        "  else:\n",
        "    predict.append(0)"
      ],
      "metadata": {
        "id": "3Fa0Z65I9_y_"
      },
      "execution_count": 33,
      "outputs": []
    },
    {
      "cell_type": "code",
      "source": [
        "predict[:5]"
      ],
      "metadata": {
        "colab": {
          "base_uri": "https://localhost:8080/"
        },
        "id": "4SBrNWEi-HCS",
        "outputId": "e30cfeaf-a4a6-49bb-cbdc-a016284d5686"
      },
      "execution_count": 36,
      "outputs": [
        {
          "output_type": "execute_result",
          "data": {
            "text/plain": [
              "[0, 0, 0, 0, 1]"
            ]
          },
          "metadata": {},
          "execution_count": 36
        }
      ]
    },
    {
      "cell_type": "code",
      "source": [
        "from sklearn.metrics import confusion_matrix,classification_report\n",
        "print(classification_report(y_test,predict))"
      ],
      "metadata": {
        "colab": {
          "base_uri": "https://localhost:8080/"
        },
        "id": "zTvAAkIk-Y7h",
        "outputId": "538a91c4-3094-44f8-8ef8-471f58276295"
      },
      "execution_count": 37,
      "outputs": [
        {
          "output_type": "stream",
          "name": "stdout",
          "text": [
            "              precision    recall  f1-score   support\n",
            "\n",
            "         0.0       0.81      0.92      0.86       159\n",
            "         1.0       0.68      0.44      0.53        61\n",
            "\n",
            "    accuracy                           0.79       220\n",
            "   macro avg       0.74      0.68      0.70       220\n",
            "weighted avg       0.77      0.79      0.77       220\n",
            "\n"
          ]
        }
      ]
    },
    {
      "cell_type": "code",
      "source": [
        "cm=tf.math.confusion_matrix(labels=y_test,predictions=predict)\n",
        "\n",
        "plt.figure(figsize=(10,7))\n",
        "sns.heatmap(cm,annot=True,fmt='d')\n",
        "plt.xlabel('Predicted')\n",
        "plt.ylabel(\"Truth\")"
      ],
      "metadata": {
        "colab": {
          "base_uri": "https://localhost:8080/",
          "height": 636
        },
        "id": "tw7TV04b-djJ",
        "outputId": "b890c759-0175-43e4-e984-73ac5d902637"
      },
      "execution_count": 38,
      "outputs": [
        {
          "output_type": "execute_result",
          "data": {
            "text/plain": [
              "Text(95.72222222222221, 0.5, 'Truth')"
            ]
          },
          "metadata": {},
          "execution_count": 38
        },
        {
          "output_type": "display_data",
          "data": {
            "text/plain": [
              "<Figure size 1000x700 with 2 Axes>"
            ],
            "image/png": "[encoded data removed]"
          },
          "metadata": {}
        }
      ]
    },
    {
      "cell_type": "code",
      "source": [
        "obs=0\n",
        "bmi=28.255713\n",
        "pos=0\n",
        "cons=0\n",
        "eff=3\n",
        "dial=0\n",
        "stat=2\n",
        "bis=3\n",
        "cervl=2.833775\n",
        "cervw=1.264517\n",
        "indu=1\n",
        "\n",
        "smt=np.array([[obs,bmi,pos,cons,eff,dial,stat,bis,cervl,cervw,indu]])"
      ],
      "metadata": {
        "id": "X8nN62LH-9hB"
      },
      "execution_count": 40,
      "outputs": []
    },
    {
      "cell_type": "code",
      "source": [
        "scaledip= scal.transform(smt)\n",
        "dfip=pd.DataFrame(scaledip)\n",
        "print(dfip)"
      ],
      "metadata": {
        "colab": {
          "base_uri": "https://localhost:8080/"
        },
        "id": "ZwXLjeNF_NPK",
        "outputId": "54fd4e63-f85a-42ac-8648-1dc5398f3d2d"
      },
      "execution_count": 41,
      "outputs": [
        {
          "output_type": "stream",
          "name": "stdout",
          "text": [
            "         0         1        2         3         4         5         6   \\\n",
            "0 -0.237356  0.018711 -1.18662 -1.161828  1.242464 -1.295044  0.441695   \n",
            "\n",
            "         7         8         9         10  \n",
            "0 -1.009287  1.396212 -0.632836  0.252646  \n"
          ]
        },
        {
          "output_type": "stream",
          "name": "stderr",
          "text": [
            "/usr/local/lib/python3.10/dist-packages/sklearn/base.py:439: UserWarning: X does not have valid feature names, but StandardScaler was fitted with feature names\n",
            "  warnings.warn(\n"
          ]
        }
      ]
    },
    {
      "cell_type": "code",
      "source": [
        "ip_pred=model.predict(dfip)\n",
        "output=\"Normal Delivery\"\n",
        "if ip_pred>0.5:\n",
        "  output=\"cesarean\"\n",
        "print(output)"
      ],
      "metadata": {
        "colab": {
          "base_uri": "https://localhost:8080/"
        },
        "id": "Q6VwH1_-_SKO",
        "outputId": "118c3f8a-e87e-4fa3-edfc-b1539f36f464"
      },
      "execution_count": 42,
      "outputs": [
        {
          "output_type": "stream",
          "name": "stdout",
          "text": [
            "1/1 [==============================] - 0s 34ms/step\n",
            "cesarean\n"
          ]
        }
      ]
    }
  ]
}